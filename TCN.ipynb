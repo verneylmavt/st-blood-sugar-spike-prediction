{
 "cells": [
  {
   "cell_type": "code",
   "execution_count": 1,
   "metadata": {},
   "outputs": [],
   "source": [
    "import os\n",
    "import joblib\n",
    "from tqdm import tqdm\n",
    "from IPython.display import Image, display\n",
    "\n",
    "import torch\n",
    "import torch.nn as nn\n",
    "import torch.optim as optim\n",
    "from torch.utils.data import Dataset, DataLoader\n",
    "\n",
    "from torchinfo import summary\n",
    "from torchviz import make_dot\n",
    "import shap\n",
    "from captum.attr import IntegratedGradients\n",
    "\n",
    "import numpy as np\n",
    "import pandas as pd\n",
    "import matplotlib.pyplot as plt\n",
    "from sklearn.model_selection import train_test_split\n",
    "from sklearn.linear_model import LinearRegression"
   ]
  },
  {
   "cell_type": "code",
   "execution_count": 2,
   "metadata": {},
   "outputs": [
    {
     "name": "stdout",
     "output_type": "stream",
     "text": [
      "cuda:0\n"
     ]
    }
   ],
   "source": [
    "device = torch.device('cuda:0' if torch.cuda.is_available() else 'cpu')\n",
    "print(device)"
   ]
  },
  {
   "cell_type": "markdown",
   "metadata": {},
   "source": [
    "## TCN"
   ]
  },
  {
   "cell_type": "markdown",
   "metadata": {},
   "source": [
    "### Data Importing"
   ]
  },
  {
   "cell_type": "code",
   "execution_count": 3,
   "metadata": {},
   "outputs": [],
   "source": [
    "df = pd.read_csv(\"./.data/train_aug.csv\")  # Load preprocessed training data"
   ]
  },
  {
   "cell_type": "code",
   "execution_count": 4,
   "metadata": {},
   "outputs": [
    {
     "name": "stdout",
     "output_type": "stream",
     "text": [
      "               id   bg-1:55   bg-1:50   bg-1:45   bg-1:40   bg-1:35   bg-1:30  \\\n",
      "0           p01_0  3.094945  3.205369  3.313714  3.339652  3.360971  3.379788   \n",
      "1           p01_1  3.340175  3.361377  3.380513  3.339652  3.294115  3.246211   \n",
      "2           p01_2  3.340175  3.294517  3.246914  3.172466  3.093546  3.012452   \n",
      "3           p01_3  3.172973  3.093934  3.013116  3.038718  3.060118  3.079240   \n",
      "4           p01_4  3.039211  3.060504  3.079915  3.061009  3.037832  3.012452   \n",
      "...           ...       ...       ...       ...       ...       ...       ...   \n",
      "354043  p12_25294 -0.166088 -0.162144 -0.201082 -0.190677 -0.274624 -0.410811   \n",
      "354044  p12_25295 -0.157866 -0.194575 -0.202508 -0.298811 -0.387798 -0.454655   \n",
      "354045  p12_25296 -0.195047 -0.179183 -0.294168 -0.399377 -0.454584 -0.519700   \n",
      "354046  p12_25297 -0.198411 -0.274534 -0.403222 -0.467770 -0.546534 -0.615630   \n",
      "354047  p12_25298 -0.295760 -0.384807 -0.462989 -0.523887 -0.617679 -0.707057   \n",
      "\n",
      "         bg-1:25   bg-1:20   bg-1:15  ...  cals-0:40  cals-0:35  cals-0:30  \\\n",
      "0       3.338989  3.293499  3.245402  ...  -0.926869  -0.926888  -0.926379   \n",
      "1       3.171830  3.092964  3.011700  ...  -0.926869  -0.926888  -0.926379   \n",
      "2       3.038103  3.059542  3.078472  ...  -0.926869  -0.926888  -0.926379   \n",
      "3       3.060391  3.037260  3.011700  ...  -0.926869  -0.926888  -0.926379   \n",
      "4       2.893232  2.769880  2.644454  ...  -0.926869  -0.926888  -0.926379   \n",
      "...          ...       ...       ...  ...        ...        ...        ...   \n",
      "354043 -0.470030 -0.524511 -0.624608  ...  -0.096289  -0.090901  -0.096546   \n",
      "354044 -0.550208 -0.618428 -0.701900  ...  -0.091292  -0.094911  -0.099268   \n",
      "354045 -0.614337 -0.679266 -0.712390  ...  -0.104872  -0.089150  -0.092143   \n",
      "354046 -0.685211 -0.697928 -0.724034  ...  -0.093794  -0.104278  -0.095884   \n",
      "354047 -0.719981 -0.721520 -0.673364  ...  -0.083011  -0.088848  -0.088161   \n",
      "\n",
      "        cals-0:25  cals-0:20  cals-0:15  cals-0:10  cals-0:05  cals-0:00  \\\n",
      "0       -0.926651  -0.926845  -0.926321  -0.926740  -0.926944  -0.926690   \n",
      "1       -0.926651  -0.926845  -0.926321  -0.926740  -0.926944  -0.926690   \n",
      "2       -0.926651  -0.926845  -0.926321  -0.926740  -0.926944  -0.926690   \n",
      "3       -0.926651  -0.926845  -0.926321  -0.926740  -0.926944  -0.926690   \n",
      "4       -0.926651  -0.926845  -0.926321  -0.926740  -0.926944  -0.926690   \n",
      "...           ...        ...        ...        ...        ...        ...   \n",
      "354043  -0.076364  -0.097032  -0.091910  -0.095734  -0.091767  -0.086200   \n",
      "354044  -0.086722  -0.095905  -0.094789  -0.099973  -0.097934  -0.103795   \n",
      "354045  -0.099389  -0.113212  -0.110173  -0.092425  -0.106378  -0.107755   \n",
      "354046  -0.098060  -0.092843  -0.107961  -0.091687  -0.086679  -0.113735   \n",
      "354047  -0.087702  -0.085920  -0.094165  -0.089271  -0.075465  -0.085295   \n",
      "\n",
      "         bg+1:00  \n",
      "0       1.709709  \n",
      "1       1.509468  \n",
      "2       2.410552  \n",
      "3       2.176938  \n",
      "4       1.476095  \n",
      "...          ...  \n",
      "354043  0.942119  \n",
      "354044  0.875372  \n",
      "354045  0.808625  \n",
      "354046  0.741878  \n",
      "354047  0.641757  \n",
      "\n",
      "[354048 rows x 146 columns]\n"
     ]
    }
   ],
   "source": [
    "print(df)  # Print the dataframe for inspection"
   ]
  },
  {
   "cell_type": "code",
   "execution_count": 5,
   "metadata": {},
   "outputs": [
    {
     "name": "stdout",
     "output_type": "stream",
     "text": [
      "id\n",
      "bg-1:55\n",
      "bg-1:50\n",
      "bg-1:45\n",
      "bg-1:40\n",
      "bg-1:35\n",
      "bg-1:30\n",
      "bg-1:25\n",
      "bg-1:20\n",
      "bg-1:15\n",
      "bg-1:10\n",
      "bg-1:05\n",
      "bg-1:00\n",
      "bg-0:55\n",
      "bg-0:50\n",
      "bg-0:45\n",
      "bg-0:40\n",
      "bg-0:35\n",
      "bg-0:30\n",
      "bg-0:25\n",
      "bg-0:20\n",
      "bg-0:15\n",
      "bg-0:10\n",
      "bg-0:05\n",
      "bg-0:00\n",
      "insulin-1:55\n",
      "insulin-1:50\n",
      "insulin-1:45\n",
      "insulin-1:40\n",
      "insulin-1:35\n",
      "insulin-1:30\n",
      "insulin-1:25\n",
      "insulin-1:20\n",
      "insulin-1:15\n",
      "insulin-1:10\n",
      "insulin-1:05\n",
      "insulin-1:00\n",
      "insulin-0:55\n",
      "insulin-0:50\n",
      "insulin-0:45\n",
      "insulin-0:40\n",
      "insulin-0:35\n",
      "insulin-0:30\n",
      "insulin-0:25\n",
      "insulin-0:20\n",
      "insulin-0:15\n",
      "insulin-0:10\n",
      "insulin-0:05\n",
      "insulin-0:00\n",
      "carbs-1:55\n",
      "carbs-1:50\n",
      "carbs-1:45\n",
      "carbs-1:40\n",
      "carbs-1:35\n",
      "carbs-1:30\n",
      "carbs-1:25\n",
      "carbs-1:20\n",
      "carbs-1:15\n",
      "carbs-1:10\n",
      "carbs-1:05\n",
      "carbs-1:00\n",
      "carbs-0:55\n",
      "carbs-0:50\n",
      "carbs-0:45\n",
      "carbs-0:40\n",
      "carbs-0:35\n",
      "carbs-0:30\n",
      "carbs-0:25\n",
      "carbs-0:20\n",
      "carbs-0:15\n",
      "carbs-0:10\n",
      "carbs-0:05\n",
      "carbs-0:00\n",
      "hr-1:55\n",
      "hr-1:50\n",
      "hr-1:45\n",
      "hr-1:40\n",
      "hr-1:35\n",
      "hr-1:30\n",
      "hr-1:25\n",
      "hr-1:20\n",
      "hr-1:15\n",
      "hr-1:10\n",
      "hr-1:05\n",
      "hr-1:00\n",
      "hr-0:55\n",
      "hr-0:50\n",
      "hr-0:45\n",
      "hr-0:40\n",
      "hr-0:35\n",
      "hr-0:30\n",
      "hr-0:25\n",
      "hr-0:20\n",
      "hr-0:15\n",
      "hr-0:10\n",
      "hr-0:05\n",
      "hr-0:00\n",
      "steps-1:55\n",
      "steps-1:50\n",
      "steps-1:45\n",
      "steps-1:40\n",
      "steps-1:35\n",
      "steps-1:30\n",
      "steps-1:25\n",
      "steps-1:20\n",
      "steps-1:15\n",
      "steps-1:10\n",
      "steps-1:05\n",
      "steps-1:00\n",
      "steps-0:55\n",
      "steps-0:50\n",
      "steps-0:45\n",
      "steps-0:40\n",
      "steps-0:35\n",
      "steps-0:30\n",
      "steps-0:25\n",
      "steps-0:20\n",
      "steps-0:15\n",
      "steps-0:10\n",
      "steps-0:05\n",
      "steps-0:00\n",
      "cals-1:55\n",
      "cals-1:50\n",
      "cals-1:45\n",
      "cals-1:40\n",
      "cals-1:35\n",
      "cals-1:30\n",
      "cals-1:25\n",
      "cals-1:20\n",
      "cals-1:15\n",
      "cals-1:10\n",
      "cals-1:05\n",
      "cals-1:00\n",
      "cals-0:55\n",
      "cals-0:50\n",
      "cals-0:45\n",
      "cals-0:40\n",
      "cals-0:35\n",
      "cals-0:30\n",
      "cals-0:25\n",
      "cals-0:20\n",
      "cals-0:15\n",
      "cals-0:10\n",
      "cals-0:05\n",
      "cals-0:00\n",
      "bg+1:00\n"
     ]
    }
   ],
   "source": [
    "for col in df.columns:\n",
    "    print(col)  # List all column names to verify dataset structure"
   ]
  },
  {
   "cell_type": "markdown",
   "metadata": {},
   "source": [
    "### Data Splitting"
   ]
  },
  {
   "cell_type": "code",
   "execution_count": 6,
   "metadata": {},
   "outputs": [],
   "source": [
    "# Split data into training (80%) and temporary set (20%)\n",
    "train_df, temp_df = train_test_split(df, test_size=0.2, random_state=42)\n",
    "# Further split temporary set equally into validation and test sets (10% each overall)\n",
    "val_df, test_df = train_test_split(temp_df, test_size=0.5, random_state=42)"
   ]
  },
  {
   "cell_type": "code",
   "execution_count": 7,
   "metadata": {},
   "outputs": [
    {
     "name": "stdout",
     "output_type": "stream",
     "text": [
      "Train Shape: (283238, 146)\n",
      "Validation Shape: (35405, 146)\n",
      "Test Shape: (35405, 146)\n"
     ]
    }
   ],
   "source": [
    "print(f\"Train Shape: {train_df.shape}\")\n",
    "print(f\"Validation Shape: {val_df.shape}\")\n",
    "print(f\"Test Shape: {test_df.shape}\")"
   ]
  },
  {
   "cell_type": "code",
   "execution_count": 8,
   "metadata": {},
   "outputs": [],
   "source": [
    "# val_df.to_csv(\"./.data/train_val_aug.csv\", index=False)\n",
    "# test_df.to_csv(\"./.data/train_test_aug.csv\", index=False)"
   ]
  },
  {
   "cell_type": "markdown",
   "metadata": {},
   "source": [
    "### Dataset and DataLoader"
   ]
  },
  {
   "cell_type": "code",
   "execution_count": 9,
   "metadata": {},
   "outputs": [],
   "source": [
    "class BrisT1DDataset(Dataset):\n",
    "    def __init__(self, df, is_train=True):\n",
    "        self.df = df\n",
    "        self.is_train = is_train\n",
    "        \n",
    "        # If 'id' column exists, store it separately and remove it from features.\n",
    "        if 'id' in self.df.columns:\n",
    "            self.ids = self.df['id'].values\n",
    "            self.df = self.df.drop(columns=['id'])\n",
    "        else:\n",
    "            self.ids = None\n",
    "        \n",
    "        # For training data, extract target column 'bg+1:00' and drop it from features.\n",
    "        if self.is_train and 'bg+1:00' in self.df.columns:\n",
    "            self.targets = self.df['bg+1:00'].values\n",
    "            self.df = self.df.drop(columns=['bg+1:00'])\n",
    "        else:\n",
    "            self.targets = None\n",
    "        \n",
    "        # Convert remaining dataframe to a float32 numpy array.\n",
    "        data = self.df.values.astype(np.float32)\n",
    "        # Ensure the number of features is exactly 144 (6 features x 24 timesteps)\n",
    "        if data.shape[1] != 144:\n",
    "            raise ValueError(f\"Expected 144, Real {data.shape[1]}\")\n",
    "        \n",
    "        # Reshape the data to (num_samples, 6, 24) and then transpose it to (num_samples, 24, 6)\n",
    "        # where 24 is the time dimension and 6 are the sensor features.\n",
    "        self.X = data.reshape(-1, 6, 24).transpose(0, 2, 1)\n",
    "        \n",
    "        # Set target values if training; reshape targets to a column vector.\n",
    "        if self.is_train:\n",
    "            self.y = self.targets.astype(np.float32).reshape(-1, 1)\n",
    "        else:\n",
    "            self.y = None\n",
    "\n",
    "    def __len__(self):\n",
    "        return self.X.shape[0]  # Number of samples\n",
    "\n",
    "    def __getitem__(self, idx):\n",
    "        # Convert sample to torch tensor.\n",
    "        sample = torch.tensor(self.X[idx], dtype=torch.float32)\n",
    "        if self.is_train:\n",
    "            # Return both sample and corresponding target as torch tensor.\n",
    "            target = torch.tensor(self.y[idx], dtype=torch.float32)\n",
    "            return sample, target\n",
    "        else:\n",
    "            return sample"
   ]
  },
  {
   "cell_type": "code",
   "execution_count": 10,
   "metadata": {},
   "outputs": [],
   "source": [
    "# Instantiate datasets for training, validation, and testing.\n",
    "train_dataset = BrisT1DDataset(train_df, is_train=True)\n",
    "val_dataset = BrisT1DDataset(val_df, is_train=True)\n",
    "test_dataset = BrisT1DDataset(test_df, is_train=True)"
   ]
  },
  {
   "cell_type": "code",
   "execution_count": 11,
   "metadata": {},
   "outputs": [],
   "source": [
    "batch_size = 128\n",
    "# Create DataLoaders for batching data; training data is shuffled.\n",
    "train_loader = DataLoader(train_dataset, batch_size=batch_size, shuffle=True)\n",
    "val_loader = DataLoader(val_dataset, batch_size=batch_size, shuffle=False)\n",
    "test_loader = DataLoader(test_dataset, batch_size=batch_size, shuffle=False)"
   ]
  },
  {
   "cell_type": "markdown",
   "metadata": {},
   "source": [
    "### Model"
   ]
  },
  {
   "cell_type": "markdown",
   "metadata": {},
   "source": [
    "1. **Input:** \n",
    "   \\begin{aligned} \n",
    "   S_t^{(0)} \\in \\mathbb{R}^{6}, \\quad t=1,\\dots,24\n",
    "   \\end{aligned}\n",
    "\n",
    "2. **Block 1 $( i=1 )$:**  \n",
    "   \\begin{aligned}\n",
    "   d_1 &= 1,\\quad p_1 = 1,\\\\[1mm]\n",
    "   S_t^{(1,1)} &= \\mathrm{Dropout}\\Bigl(\\mathrm{ReLU}\\Bigl(\\text{chomp}\\bigl(W_1^{(1)} \\ast_{1} S_t^{(0)} + b_1^{(1)}\\bigr)\\Bigr)\\Bigr),\\\\[1mm]\n",
    "   S_t^{(1,2)} &= \\mathrm{Dropout}\\Bigl(\\mathrm{ReLU}\\Bigl(\\text{chomp}\\bigl(W_2^{(1)} \\ast_{1} S_t^{(1,1)} + b_2^{(1)}\\bigr)\\Bigr)\\Bigr),\\\\[1mm]\n",
    "   \\textbf{D}^{(1)} &: \\mathbb{R}^{6} \\to \\mathbb{R}^{64},\\\\[1mm]\n",
    "   \\tilde{S}_t^{(0)} &= \n",
    "   \\begin{cases}\n",
    "   S_t^{(0)} & \\text{if } C_0 = C_1, \\\\\n",
    "   D^{(1)}\\bigl(S_t^{(0)}\\bigr) & \\text{if } C_0 \\neq C_1,\n",
    "   \\end{cases}\\\\[2mm]\n",
    "   S_t^{(1,3)} &= \\mathrm{ReLU}\\Bigl( S_t^{(1,2)} + \\tilde{S}_t^{(0)} \\Bigr).\n",
    "   \\end{aligned}\n",
    "\n",
    "3. **Block 2 $( i=2 )$:**  \n",
    "   \\begin{aligned}\n",
    "   d_2 &= 2,\\quad p_2 = 2,\\\\[1mm]\n",
    "   S_t^{(2,1)} &= \\mathrm{Dropout}\\Bigl(\\mathrm{ReLU}\\Bigl(\\text{chomp}\\bigl(W_1^{(2)} \\ast_{2} S_t^{(1,3)} + b_1^{(2)}\\bigr)\\Bigr)\\Bigr),\\\\[1mm]\n",
    "   S_t^{(2,2)} &= \\mathrm{Dropout}\\Bigl(\\mathrm{ReLU}\\Bigl(\\text{chomp}\\bigl(W_2^{(2)} \\ast_{2} S_t^{(2,1)} + b_2^{(2)}\\bigr)\\Bigr)\\Bigr),\\\\[1mm]\n",
    "   \\textbf{D}^{(2)} &: \\mathbb{R}^{64} \\to \\mathbb{R}^{32},\\\\[1mm]\n",
    "   \\tilde{S}_t^{(1,3)} &= \n",
    "   \\begin{cases}\n",
    "   S_t^{(1,3)} & \\text{if } C_1 = C_2, \\\\\n",
    "   D^{(2)}\\bigl(S_t^{(1,3)}\\bigr) & \\text{if } C_1 \\neq C_2,\n",
    "   \\end{cases}\\\\[2mm]\n",
    "   S_t^{(2,3)} &= \\mathrm{ReLU}\\Bigl( S_t^{(2,2)} + \\tilde{S}_t^{(1,3)} \\Bigr).\n",
    "   \\end{aligned}\n",
    "\n",
    "4. **Output:**  \n",
    "   Let $y = S_{24}^{(2,3)} \\in \\mathbb{R}^{32}$ be the feature vector at the final time step. Then,\n",
    "   \\begin{aligned}\n",
    "   \\hat{y} = U\\, y + c, \\quad U \\in \\mathbb{R}^{1 \\times 32},\\quad c \\in \\mathbb{R}.\n",
    "   \\end{aligned}"
   ]
  },
  {
   "cell_type": "code",
   "execution_count": 12,
   "metadata": {},
   "outputs": [],
   "source": [
    "class BrisT1DChomp1d(nn.Module):\n",
    "    def __init__(self, chomp_size):\n",
    "        super().__init__()\n",
    "        self.chomp_size = chomp_size  # Amount to trim from the end of the sequence\n",
    "        \n",
    "    def forward(self, x):\n",
    "        # Trim the last 'chomp_size' elements along the temporal dimension\n",
    "        if self.chomp_size > 0:\n",
    "            return x[:, :, :-self.chomp_size].contiguous()\n",
    "        return x"
   ]
  },
  {
   "cell_type": "code",
   "execution_count": 13,
   "metadata": {},
   "outputs": [],
   "source": [
    "class BrisT1DTemporalBlock(nn.Module):\n",
    "    def __init__(self, in_channels, out_channels, kernel_size, stride, dilation, padding, dropout):\n",
    "        super().__init__()\n",
    "        # First convolutional layer with specified parameters.\n",
    "        self.conv1 = nn.Conv1d(in_channels, out_channels, kernel_size,\n",
    "                            stride=stride, padding=padding, dilation=dilation)\n",
    "        self.chomp1 = BrisT1DChomp1d(padding)  # Remove excess padding\n",
    "        self.relu1 = nn.ReLU()\n",
    "        self.dropout1 = nn.Dropout(dropout)\n",
    "        \n",
    "        # Second convolutional layer.\n",
    "        self.conv2 = nn.Conv1d(out_channels, out_channels, kernel_size,\n",
    "                            stride=stride, padding=padding, dilation=dilation)\n",
    "        self.chomp2 = BrisT1DChomp1d(padding)\n",
    "        self.relu2 = nn.ReLU()\n",
    "        self.dropout2 = nn.Dropout(dropout)\n",
    "        \n",
    "        # Combine layers into a sequential module.\n",
    "        self.net = nn.Sequential(self.conv1, self.chomp1, self.relu1, self.dropout1,\n",
    "                                self.conv2, self.chomp2, self.relu2, self.dropout2)\n",
    "        # If input and output channels differ, apply a 1x1 convolution to match dimensions for the residual connection.\n",
    "        self.downsample = nn.Conv1d(in_channels, out_channels, 1) if in_channels != out_channels else None\n",
    "        self.relu = nn.ReLU()\n",
    "        \n",
    "    def forward(self, x):\n",
    "        out = self.net(x)\n",
    "        # Residual connection: if downsample exists, adjust input; otherwise, use input as is.\n",
    "        res = x if self.downsample is None else self.downsample(x)\n",
    "        # Return the elementwise sum passed through ReLU.\n",
    "        return self.relu(out + res)"
   ]
  },
  {
   "cell_type": "code",
   "execution_count": 14,
   "metadata": {},
   "outputs": [],
   "source": [
    "class BrisT1DTCN(nn.Module):\n",
    "    def __init__(self, num_inputs, num_channels, kernel_size=2, dropout=0.25):\n",
    "        super().__init__()\n",
    "        layers = []\n",
    "        num_levels = len(num_channels)  # Number of temporal blocks to stack\n",
    "        \n",
    "        for i in range(num_levels):\n",
    "            dilation_size = 2 ** i  # Exponential increase in dilation\n",
    "            in_channels = num_inputs if i == 0 else num_channels[i-1]\n",
    "            out_channels = num_channels[i]\n",
    "            \n",
    "            # Calculate necessary padding to ensure output maintains temporal length before chomp.\n",
    "            padding = (kernel_size - 1) * dilation_size\n",
    "            layers.append(BrisT1DTemporalBlock(in_channels, out_channels, kernel_size, stride=1,\n",
    "                                                dilation=dilation_size, padding=padding,\n",
    "                                                dropout=dropout))\n",
    "        # Sequentially stack all the temporal blocks.\n",
    "        self.network = nn.Sequential(*layers)\n",
    "        # Fully connected layer to map the final feature representation to a single output.\n",
    "        self.fc = nn.Linear(num_channels[-1], 1)\n",
    "        \n",
    "    def forward(self, x):\n",
    "        # Transpose input from (batch, time, features) to (batch, features, time) for 1D convolution\n",
    "        x = x.transpose(1, 2)\n",
    "        y = self.network(x)\n",
    "        # Use the last time step's output for prediction\n",
    "        y = y[:, :, -1]\n",
    "        out = self.fc(y)\n",
    "        return out"
   ]
  },
  {
   "cell_type": "code",
   "execution_count": 15,
   "metadata": {},
   "outputs": [
    {
     "name": "stdout",
     "output_type": "stream",
     "text": [
      "BrisT1DTCN(\n",
      "  (network): Sequential(\n",
      "    (0): BrisT1DTemporalBlock(\n",
      "      (conv1): Conv1d(6, 64, kernel_size=(2,), stride=(1,), padding=(1,))\n",
      "      (chomp1): BrisT1DChomp1d()\n",
      "      (relu1): ReLU()\n",
      "      (dropout1): Dropout(p=0.25, inplace=False)\n",
      "      (conv2): Conv1d(64, 64, kernel_size=(2,), stride=(1,), padding=(1,))\n",
      "      (chomp2): BrisT1DChomp1d()\n",
      "      (relu2): ReLU()\n",
      "      (dropout2): Dropout(p=0.25, inplace=False)\n",
      "      (net): Sequential(\n",
      "        (0): Conv1d(6, 64, kernel_size=(2,), stride=(1,), padding=(1,))\n",
      "        (1): BrisT1DChomp1d()\n",
      "        (2): ReLU()\n",
      "        (3): Dropout(p=0.25, inplace=False)\n",
      "        (4): Conv1d(64, 64, kernel_size=(2,), stride=(1,), padding=(1,))\n",
      "        (5): BrisT1DChomp1d()\n",
      "        (6): ReLU()\n",
      "        (7): Dropout(p=0.25, inplace=False)\n",
      "      )\n",
      "      (downsample): Conv1d(6, 64, kernel_size=(1,), stride=(1,))\n",
      "      (relu): ReLU()\n",
      "    )\n",
      "    (1): BrisT1DTemporalBlock(\n",
      "      (conv1): Conv1d(64, 32, kernel_size=(2,), stride=(1,), padding=(2,), dilation=(2,))\n",
      "      (chomp1): BrisT1DChomp1d()\n",
      "      (relu1): ReLU()\n",
      "      (dropout1): Dropout(p=0.25, inplace=False)\n",
      "      (conv2): Conv1d(32, 32, kernel_size=(2,), stride=(1,), padding=(2,), dilation=(2,))\n",
      "      (chomp2): BrisT1DChomp1d()\n",
      "      (relu2): ReLU()\n",
      "      (dropout2): Dropout(p=0.25, inplace=False)\n",
      "      (net): Sequential(\n",
      "        (0): Conv1d(64, 32, kernel_size=(2,), stride=(1,), padding=(2,), dilation=(2,))\n",
      "        (1): BrisT1DChomp1d()\n",
      "        (2): ReLU()\n",
      "        (3): Dropout(p=0.25, inplace=False)\n",
      "        (4): Conv1d(32, 32, kernel_size=(2,), stride=(1,), padding=(2,), dilation=(2,))\n",
      "        (5): BrisT1DChomp1d()\n",
      "        (6): ReLU()\n",
      "        (7): Dropout(p=0.25, inplace=False)\n",
      "      )\n",
      "      (downsample): Conv1d(64, 32, kernel_size=(1,), stride=(1,))\n",
      "      (relu): ReLU()\n",
      "    )\n",
      "  )\n",
      "  (fc): Linear(in_features=32, out_features=1, bias=True)\n",
      ")\n"
     ]
    }
   ],
   "source": [
    "model = BrisT1DTCN(num_inputs=6, num_channels=[64, 32], kernel_size=2, dropout=0.25).to(device)\n",
    "print(model)  # Print the model architecture"
   ]
  },
  {
   "cell_type": "markdown",
   "metadata": {},
   "source": [
    "#### Model Summary"
   ]
  },
  {
   "cell_type": "code",
   "execution_count": 16,
   "metadata": {},
   "outputs": [],
   "source": [
    "dummy_seq = torch.randn(1, 24, 6).to(device)  # Create a dummy input for visualization"
   ]
  },
  {
   "cell_type": "code",
   "execution_count": 17,
   "metadata": {},
   "outputs": [
    {
     "name": "stdout",
     "output_type": "stream",
     "text": [
      "Model Summary:\n",
      "===============================================================================================\n",
      "Layer (type:depth-idx)                        Output Shape              Param #\n",
      "===============================================================================================\n",
      "BrisT1DTCN                                    [1, 1]                    --\n",
      "├─Sequential: 1-1                             [1, 32, 24]               --\n",
      "│    └─BrisT1DTemporalBlock: 2-1              [1, 64, 24]               --\n",
      "│    │    └─Sequential: 3-1                   [1, 64, 24]               9,088\n",
      "│    │    └─Conv1d: 3-2                       [1, 64, 24]               448\n",
      "│    │    └─ReLU: 3-3                         [1, 64, 24]               --\n",
      "│    └─BrisT1DTemporalBlock: 2-2              [1, 32, 24]               --\n",
      "│    │    └─Sequential: 3-4                   [1, 32, 24]               6,208\n",
      "│    │    └─Conv1d: 3-5                       [1, 32, 24]               2,080\n",
      "│    │    └─ReLU: 3-6                         [1, 32, 24]               --\n",
      "├─Linear: 1-2                                 [1, 1]                    33\n",
      "===============================================================================================\n",
      "Total params: 17,857\n",
      "Trainable params: 17,857\n",
      "Non-trainable params: 0\n",
      "Total mult-adds (M): 0.45\n",
      "===============================================================================================\n",
      "Input size (MB): 0.00\n",
      "Forward/backward pass size (MB): 0.06\n",
      "Params size (MB): 0.07\n",
      "Estimated Total Size (MB): 0.13\n",
      "===============================================================================================\n"
     ]
    }
   ],
   "source": [
    "print(\"Model Summary:\")\n",
    "print(summary(model, input_data=[dummy_seq]))  # Print detailed summary including layer outputs and parameters"
   ]
  },
  {
   "cell_type": "markdown",
   "metadata": {},
   "source": [
    "#### Model Computational Graph"
   ]
  },
  {
   "cell_type": "code",
   "execution_count": 18,
   "metadata": {},
   "outputs": [],
   "source": [
    "dummy_output = model(dummy_seq)\n",
    "dot = make_dot(dummy_output, params=dict(model.named_parameters()))  # Generate computation graph visualization"
   ]
  },
  {
   "cell_type": "code",
   "execution_count": 19,
   "metadata": {},
   "outputs": [
    {
     "name": "stdout",
     "output_type": "stream",
     "text": [
      "Model Computational Graph:\n"
     ]
    },
    {
     "data": {
      "image/svg+xml": [
       "<?xml version=\"1.0\" encoding=\"UTF-8\" standalone=\"no\"?>\n",
       "<!DOCTYPE svg PUBLIC \"-//W3C//DTD SVG 1.1//EN\"\n",
       " \"http://www.w3.org/Graphics/SVG/1.1/DTD/svg11.dtd\">\n",
       "<!-- Generated by graphviz version 12.2.1 (20241206.2353)\n",
       " -->\n",
       "<!-- Pages: 1 -->\n",
       "<svg width=\"546pt\" height=\"1469pt\"\n",
       " viewBox=\"0.00 0.00 546.10 1469.00\" xmlns=\"http://www.w3.org/2000/svg\" xmlns:xlink=\"http://www.w3.org/1999/xlink\">\n",
       "<g id=\"graph0\" class=\"graph\" transform=\"scale(0.642467 0.642467) rotate(0) translate(4 2282.5)\">\n",
       "<polygon fill=\"white\" stroke=\"none\" points=\"-4,4 -4,-2282.5 846,-2282.5 846,4 -4,4\"/>\n",
       "<!-- 1371724477072 -->\n",
       "<g id=\"node1\" class=\"node\">\n",
       "<title>1371724477072</title>\n",
       "<polygon fill=\"#caff70\" stroke=\"black\" points=\"453,-32.75 395,-32.75 395,0 453,0 453,-32.75\"/>\n",
       "<text text-anchor=\"middle\" x=\"424\" y=\"-7.25\" font-family=\"monospace\" font-size=\"10.00\"> (1, 1)</text>\n",
       "</g>\n",
       "<!-- 1371724521648 -->\n",
       "<g id=\"node2\" class=\"node\">\n",
       "<title>1371724521648</title>\n",
       "<polygon fill=\"lightgrey\" stroke=\"black\" points=\"474,-89.5 374,-89.5 374,-68.75 474,-68.75 474,-89.5\"/>\n",
       "<text text-anchor=\"middle\" x=\"424\" y=\"-76\" font-family=\"monospace\" font-size=\"10.00\">AddmmBackward0</text>\n",
       "</g>\n",
       "<!-- 1371724521648&#45;&gt;1371724477072 -->\n",
       "<g id=\"edge68\" class=\"edge\">\n",
       "<title>1371724521648&#45;&gt;1371724477072</title>\n",
       "<path fill=\"none\" stroke=\"black\" d=\"M424,-68.36C424,-61.89 424,-53.05 424,-44.55\"/>\n",
       "<polygon fill=\"black\" stroke=\"black\" points=\"427.5,-44.55 424,-34.55 420.5,-44.55 427.5,-44.55\"/>\n",
       "</g>\n",
       "<!-- 1371724516992 -->\n",
       "<g id=\"node3\" class=\"node\">\n",
       "<title>1371724516992</title>\n",
       "<polygon fill=\"lightgrey\" stroke=\"black\" points=\"353,-146.25 253,-146.25 253,-125.5 353,-125.5 353,-146.25\"/>\n",
       "<text text-anchor=\"middle\" x=\"303\" y=\"-132.75\" font-family=\"monospace\" font-size=\"10.00\">AccumulateGrad</text>\n",
       "</g>\n",
       "<!-- 1371724516992&#45;&gt;1371724521648 -->\n",
       "<g id=\"edge1\" class=\"edge\">\n",
       "<title>1371724516992&#45;&gt;1371724521648</title>\n",
       "<path fill=\"none\" stroke=\"black\" d=\"M324.63,-125.09C343.47,-116.56 371.04,-104.09 392.36,-94.44\"/>\n",
       "<polygon fill=\"black\" stroke=\"black\" points=\"393.51,-97.76 401.18,-90.45 390.62,-91.39 393.51,-97.76\"/>\n",
       "</g>\n",
       "<!-- 1370859436240 -->\n",
       "<g id=\"node4\" class=\"node\">\n",
       "<title>1370859436240</title>\n",
       "<polygon fill=\"lightblue\" stroke=\"black\" points=\"332,-215.75 274,-215.75 274,-182.25 332,-182.25 332,-215.75\"/>\n",
       "<text text-anchor=\"middle\" x=\"303\" y=\"-202.25\" font-family=\"monospace\" font-size=\"10.00\">fc.bias</text>\n",
       "<text text-anchor=\"middle\" x=\"303\" y=\"-189.5\" font-family=\"monospace\" font-size=\"10.00\"> (1)</text>\n",
       "</g>\n",
       "<!-- 1370859436240&#45;&gt;1371724516992 -->\n",
       "<g id=\"edge2\" class=\"edge\">\n",
       "<title>1370859436240&#45;&gt;1371724516992</title>\n",
       "<path fill=\"none\" stroke=\"black\" d=\"M303,-181.94C303,-174.6 303,-165.82 303,-157.96\"/>\n",
       "<polygon fill=\"black\" stroke=\"black\" points=\"306.5,-158.23 303,-148.23 299.5,-158.23 306.5,-158.23\"/>\n",
       "</g>\n",
       "<!-- 1371724520160 -->\n",
       "<g id=\"node5\" class=\"node\">\n",
       "<title>1371724520160</title>\n",
       "<polygon fill=\"lightgrey\" stroke=\"black\" points=\"477,-146.25 371,-146.25 371,-125.5 477,-125.5 477,-146.25\"/>\n",
       "<text text-anchor=\"middle\" x=\"424\" y=\"-132.75\" font-family=\"monospace\" font-size=\"10.00\">SelectBackward0</text>\n",
       "</g>\n",
       "<!-- 1371724520160&#45;&gt;1371724521648 -->\n",
       "<g id=\"edge3\" class=\"edge\">\n",
       "<title>1371724520160&#45;&gt;1371724521648</title>\n",
       "<path fill=\"none\" stroke=\"black\" d=\"M424,-125.09C424,-118.47 424,-109.47 424,-101.27\"/>\n",
       "<polygon fill=\"black\" stroke=\"black\" points=\"427.5,-101.34 424,-91.34 420.5,-101.34 427.5,-101.34\"/>\n",
       "</g>\n",
       "<!-- 1371724513584 -->\n",
       "<g id=\"node6\" class=\"node\">\n",
       "<title>1371724513584</title>\n",
       "<polygon fill=\"lightgrey\" stroke=\"black\" points=\"471,-209.38 371,-209.38 371,-188.62 471,-188.62 471,-209.38\"/>\n",
       "<text text-anchor=\"middle\" x=\"421\" y=\"-195.88\" font-family=\"monospace\" font-size=\"10.00\">SliceBackward0</text>\n",
       "</g>\n",
       "<!-- 1371724513584&#45;&gt;1371724520160 -->\n",
       "<g id=\"edge4\" class=\"edge\">\n",
       "<title>1371724513584&#45;&gt;1371724520160</title>\n",
       "<path fill=\"none\" stroke=\"black\" d=\"M421.48,-188.18C421.88,-180.02 422.47,-168.13 422.97,-157.85\"/>\n",
       "<polygon fill=\"black\" stroke=\"black\" points=\"426.46,-158.14 423.45,-147.98 419.47,-157.8 426.46,-158.14\"/>\n",
       "</g>\n",
       "<!-- 1371724523664 -->\n",
       "<g id=\"node7\" class=\"node\">\n",
       "<title>1371724523664</title>\n",
       "<polygon fill=\"lightgrey\" stroke=\"black\" points=\"471,-278.88 371,-278.88 371,-258.12 471,-258.12 471,-278.88\"/>\n",
       "<text text-anchor=\"middle\" x=\"421\" y=\"-265.38\" font-family=\"monospace\" font-size=\"10.00\">SliceBackward0</text>\n",
       "</g>\n",
       "<!-- 1371724523664&#45;&gt;1371724513584 -->\n",
       "<g id=\"edge5\" class=\"edge\">\n",
       "<title>1371724523664&#45;&gt;1371724513584</title>\n",
       "<path fill=\"none\" stroke=\"black\" d=\"M421,-257.83C421,-248.21 421,-233.13 421,-220.79\"/>\n",
       "<polygon fill=\"black\" stroke=\"black\" points=\"424.5,-221.17 421,-211.17 417.5,-221.17 424.5,-221.17\"/>\n",
       "</g>\n",
       "<!-- 1371724519824 -->\n",
       "<g id=\"node8\" class=\"node\">\n",
       "<title>1371724519824</title>\n",
       "<polygon fill=\"lightgrey\" stroke=\"black\" points=\"468,-342 374,-342 374,-321.25 468,-321.25 468,-342\"/>\n",
       "<text text-anchor=\"middle\" x=\"421\" y=\"-328.5\" font-family=\"monospace\" font-size=\"10.00\">ReluBackward0</text>\n",
       "</g>\n",
       "<!-- 1371724519824&#45;&gt;1371724523664 -->\n",
       "<g id=\"edge6\" class=\"edge\">\n",
       "<title>1371724519824&#45;&gt;1371724523664</title>\n",
       "<path fill=\"none\" stroke=\"black\" d=\"M421,-320.8C421,-312.65 421,-300.76 421,-290.48\"/>\n",
       "<polygon fill=\"black\" stroke=\"black\" points=\"424.5,-290.61 421,-280.61 417.5,-290.61 424.5,-290.61\"/>\n",
       "</g>\n",
       "<!-- 1371724513536 -->\n",
       "<g id=\"node9\" class=\"node\">\n",
       "<title>1371724513536</title>\n",
       "<polygon fill=\"lightgrey\" stroke=\"black\" points=\"465,-398.75 377,-398.75 377,-378 465,-378 465,-398.75\"/>\n",
       "<text text-anchor=\"middle\" x=\"421\" y=\"-385.25\" font-family=\"monospace\" font-size=\"10.00\">AddBackward0</text>\n",
       "</g>\n",
       "<!-- 1371724513536&#45;&gt;1371724519824 -->\n",
       "<g id=\"edge7\" class=\"edge\">\n",
       "<title>1371724513536&#45;&gt;1371724519824</title>\n",
       "<path fill=\"none\" stroke=\"black\" d=\"M421,-377.59C421,-370.97 421,-361.97 421,-353.77\"/>\n",
       "<polygon fill=\"black\" stroke=\"black\" points=\"424.5,-353.84 421,-343.84 417.5,-353.84 424.5,-353.84\"/>\n",
       "</g>\n",
       "<!-- 1371724513680 -->\n",
       "<g id=\"node10\" class=\"node\">\n",
       "<title>1371724513680</title>\n",
       "<polygon fill=\"lightgrey\" stroke=\"black\" points=\"547,-455.5 399,-455.5 399,-434.75 547,-434.75 547,-455.5\"/>\n",
       "<text text-anchor=\"middle\" x=\"473\" y=\"-442\" font-family=\"monospace\" font-size=\"10.00\">NativeDropoutBackward0</text>\n",
       "</g>\n",
       "<!-- 1371724513680&#45;&gt;1371724513536 -->\n",
       "<g id=\"edge8\" class=\"edge\">\n",
       "<title>1371724513680&#45;&gt;1371724513536</title>\n",
       "<path fill=\"none\" stroke=\"black\" d=\"M463.7,-434.34C456.6,-426.86 446.63,-416.36 438.1,-407.38\"/>\n",
       "<polygon fill=\"black\" stroke=\"black\" points=\"440.68,-405.02 431.26,-400.18 435.61,-409.84 440.68,-405.02\"/>\n",
       "</g>\n",
       "<!-- 1371724520448 -->\n",
       "<g id=\"node11\" class=\"node\">\n",
       "<title>1371724520448</title>\n",
       "<polygon fill=\"lightgrey\" stroke=\"black\" points=\"522,-512.25 428,-512.25 428,-491.5 522,-491.5 522,-512.25\"/>\n",
       "<text text-anchor=\"middle\" x=\"475\" y=\"-498.75\" font-family=\"monospace\" font-size=\"10.00\">ReluBackward0</text>\n",
       "</g>\n",
       "<!-- 1371724520448&#45;&gt;1371724513680 -->\n",
       "<g id=\"edge9\" class=\"edge\">\n",
       "<title>1371724520448&#45;&gt;1371724513680</title>\n",
       "<path fill=\"none\" stroke=\"black\" d=\"M474.64,-491.09C474.4,-484.47 474.07,-475.47 473.77,-467.27\"/>\n",
       "<polygon fill=\"black\" stroke=\"black\" points=\"477.27,-467.21 473.41,-457.34 470.28,-467.46 477.27,-467.21\"/>\n",
       "</g>\n",
       "<!-- 1371724517184 -->\n",
       "<g id=\"node12\" class=\"node\">\n",
       "<title>1371724517184</title>\n",
       "<polygon fill=\"lightgrey\" stroke=\"black\" points=\"529,-569 429,-569 429,-548.25 529,-548.25 529,-569\"/>\n",
       "<text text-anchor=\"middle\" x=\"479\" y=\"-555.5\" font-family=\"monospace\" font-size=\"10.00\">CloneBackward0</text>\n",
       "</g>\n",
       "<!-- 1371724517184&#45;&gt;1371724520448 -->\n",
       "<g id=\"edge10\" class=\"edge\">\n",
       "<title>1371724517184&#45;&gt;1371724520448</title>\n",
       "<path fill=\"none\" stroke=\"black\" d=\"M478.28,-547.84C477.8,-541.22 477.14,-532.22 476.54,-524.02\"/>\n",
       "<polygon fill=\"black\" stroke=\"black\" points=\"480.04,-523.81 475.82,-514.09 473.06,-524.32 480.04,-523.81\"/>\n",
       "</g>\n",
       "<!-- 1371724521360 -->\n",
       "<g id=\"node13\" class=\"node\">\n",
       "<title>1371724521360</title>\n",
       "<polygon fill=\"lightgrey\" stroke=\"black\" points=\"538,-625.75 438,-625.75 438,-605 538,-605 538,-625.75\"/>\n",
       "<text text-anchor=\"middle\" x=\"488\" y=\"-612.25\" font-family=\"monospace\" font-size=\"10.00\">SliceBackward0</text>\n",
       "</g>\n",
       "<!-- 1371724521360&#45;&gt;1371724517184 -->\n",
       "<g id=\"edge11\" class=\"edge\">\n",
       "<title>1371724521360&#45;&gt;1371724517184</title>\n",
       "<path fill=\"none\" stroke=\"black\" d=\"M486.39,-604.59C485.29,-597.89 483.79,-588.76 482.43,-580.48\"/>\n",
       "<polygon fill=\"black\" stroke=\"black\" points=\"485.92,-580.12 480.84,-570.82 479.01,-581.26 485.92,-580.12\"/>\n",
       "</g>\n",
       "<!-- 1371724524240 -->\n",
       "<g id=\"node14\" class=\"node\">\n",
       "<title>1371724524240</title>\n",
       "<polygon fill=\"lightgrey\" stroke=\"black\" points=\"556,-682.5 456,-682.5 456,-661.75 556,-661.75 556,-682.5\"/>\n",
       "<text text-anchor=\"middle\" x=\"506\" y=\"-669\" font-family=\"monospace\" font-size=\"10.00\">SliceBackward0</text>\n",
       "</g>\n",
       "<!-- 1371724524240&#45;&gt;1371724521360 -->\n",
       "<g id=\"edge12\" class=\"edge\">\n",
       "<title>1371724524240&#45;&gt;1371724521360</title>\n",
       "<path fill=\"none\" stroke=\"black\" d=\"M502.78,-661.34C500.56,-654.56 497.51,-645.3 494.76,-636.94\"/>\n",
       "<polygon fill=\"black\" stroke=\"black\" points=\"498.11,-635.92 491.66,-627.52 491.46,-638.11 498.11,-635.92\"/>\n",
       "</g>\n",
       "<!-- 1371724523136 -->\n",
       "<g id=\"node15\" class=\"node\">\n",
       "<title>1371724523136</title>\n",
       "<polygon fill=\"lightgrey\" stroke=\"black\" points=\"592,-739.25 492,-739.25 492,-718.5 592,-718.5 592,-739.25\"/>\n",
       "<text text-anchor=\"middle\" x=\"542\" y=\"-725.75\" font-family=\"monospace\" font-size=\"10.00\">SliceBackward0</text>\n",
       "</g>\n",
       "<!-- 1371724523136&#45;&gt;1371724524240 -->\n",
       "<g id=\"edge13\" class=\"edge\">\n",
       "<title>1371724523136&#45;&gt;1371724524240</title>\n",
       "<path fill=\"none\" stroke=\"black\" d=\"M535.56,-718.09C530.85,-710.92 524.31,-700.98 518.58,-692.26\"/>\n",
       "<polygon fill=\"black\" stroke=\"black\" points=\"521.63,-690.53 513.21,-684.09 515.78,-694.37 521.63,-690.53\"/>\n",
       "</g>\n",
       "<!-- 1371724526832 -->\n",
       "<g id=\"node16\" class=\"node\">\n",
       "<title>1371724526832</title>\n",
       "<polygon fill=\"lightgrey\" stroke=\"black\" points=\"612,-796 476,-796 476,-775.25 612,-775.25 612,-796\"/>\n",
       "<text text-anchor=\"middle\" x=\"544\" y=\"-782.5\" font-family=\"monospace\" font-size=\"10.00\">ConvolutionBackward0</text>\n",
       "</g>\n",
       "<!-- 1371724526832&#45;&gt;1371724523136 -->\n",
       "<g id=\"edge14\" class=\"edge\">\n",
       "<title>1371724526832&#45;&gt;1371724523136</title>\n",
       "<path fill=\"none\" stroke=\"black\" d=\"M543.64,-774.84C543.4,-768.22 543.07,-759.22 542.77,-751.02\"/>\n",
       "<polygon fill=\"black\" stroke=\"black\" points=\"546.27,-750.96 542.41,-741.09 539.28,-751.21 546.27,-750.96\"/>\n",
       "</g>\n",
       "<!-- 1371724515264 -->\n",
       "<g id=\"node17\" class=\"node\">\n",
       "<title>1371724515264</title>\n",
       "<polygon fill=\"lightgrey\" stroke=\"black\" points=\"547,-852.75 399,-852.75 399,-832 547,-832 547,-852.75\"/>\n",
       "<text text-anchor=\"middle\" x=\"473\" y=\"-839.25\" font-family=\"monospace\" font-size=\"10.00\">NativeDropoutBackward0</text>\n",
       "</g>\n",
       "<!-- 1371724515264&#45;&gt;1371724526832 -->\n",
       "<g id=\"edge15\" class=\"edge\">\n",
       "<title>1371724515264&#45;&gt;1371724526832</title>\n",
       "<path fill=\"none\" stroke=\"black\" d=\"M485.69,-831.59C495.89,-823.72 510.44,-812.5 522.46,-803.24\"/>\n",
       "<polygon fill=\"black\" stroke=\"black\" points=\"524.44,-806.13 530.22,-797.25 520.16,-800.59 524.44,-806.13\"/>\n",
       "</g>\n",
       "<!-- 1371724515072 -->\n",
       "<g id=\"node18\" class=\"node\">\n",
       "<title>1371724515072</title>\n",
       "<polygon fill=\"lightgrey\" stroke=\"black\" points=\"521,-915.88 427,-915.88 427,-895.12 521,-895.12 521,-915.88\"/>\n",
       "<text text-anchor=\"middle\" x=\"474\" y=\"-902.38\" font-family=\"monospace\" font-size=\"10.00\">ReluBackward0</text>\n",
       "</g>\n",
       "<!-- 1371724515072&#45;&gt;1371724515264 -->\n",
       "<g id=\"edge16\" class=\"edge\">\n",
       "<title>1371724515072&#45;&gt;1371724515264</title>\n",
       "<path fill=\"none\" stroke=\"black\" d=\"M473.84,-894.68C473.71,-886.52 473.51,-874.63 473.34,-864.35\"/>\n",
       "<polygon fill=\"black\" stroke=\"black\" points=\"476.84,-864.42 473.18,-854.48 469.85,-864.54 476.84,-864.42\"/>\n",
       "</g>\n",
       "<!-- 1371724522656 -->\n",
       "<g id=\"node19\" class=\"node\">\n",
       "<title>1371724522656</title>\n",
       "<polygon fill=\"lightgrey\" stroke=\"black\" points=\"527,-979 427,-979 427,-958.25 527,-958.25 527,-979\"/>\n",
       "<text text-anchor=\"middle\" x=\"477\" y=\"-965.5\" font-family=\"monospace\" font-size=\"10.00\">CloneBackward0</text>\n",
       "</g>\n",
       "<!-- 1371724522656&#45;&gt;1371724515072 -->\n",
       "<g id=\"edge17\" class=\"edge\">\n",
       "<title>1371724522656&#45;&gt;1371724515072</title>\n",
       "<path fill=\"none\" stroke=\"black\" d=\"M476.52,-957.8C476.12,-949.65 475.53,-937.76 475.03,-927.48\"/>\n",
       "<polygon fill=\"black\" stroke=\"black\" points=\"478.53,-927.42 474.55,-917.61 471.54,-927.77 478.53,-927.42\"/>\n",
       "</g>\n",
       "<!-- 1371724526736 -->\n",
       "<g id=\"node20\" class=\"node\">\n",
       "<title>1371724526736</title>\n",
       "<polygon fill=\"lightgrey\" stroke=\"black\" points=\"533,-1035.75 433,-1035.75 433,-1015 533,-1015 533,-1035.75\"/>\n",
       "<text text-anchor=\"middle\" x=\"483\" y=\"-1022.25\" font-family=\"monospace\" font-size=\"10.00\">SliceBackward0</text>\n",
       "</g>\n",
       "<!-- 1371724526736&#45;&gt;1371724522656 -->\n",
       "<g id=\"edge18\" class=\"edge\">\n",
       "<title>1371724526736&#45;&gt;1371724522656</title>\n",
       "<path fill=\"none\" stroke=\"black\" d=\"M481.93,-1014.59C481.2,-1007.97 480.22,-998.97 479.32,-990.77\"/>\n",
       "<polygon fill=\"black\" stroke=\"black\" points=\"482.8,-990.39 478.23,-980.83 475.84,-991.15 482.8,-990.39\"/>\n",
       "</g>\n",
       "<!-- 1371724522752 -->\n",
       "<g id=\"node21\" class=\"node\">\n",
       "<title>1371724522752</title>\n",
       "<polygon fill=\"lightgrey\" stroke=\"black\" points=\"546,-1092.5 446,-1092.5 446,-1071.75 546,-1071.75 546,-1092.5\"/>\n",
       "<text text-anchor=\"middle\" x=\"496\" y=\"-1079\" font-family=\"monospace\" font-size=\"10.00\">SliceBackward0</text>\n",
       "</g>\n",
       "<!-- 1371724522752&#45;&gt;1371724526736 -->\n",
       "<g id=\"edge19\" class=\"edge\">\n",
       "<title>1371724522752&#45;&gt;1371724526736</title>\n",
       "<path fill=\"none\" stroke=\"black\" d=\"M493.68,-1071.34C492.09,-1064.64 489.92,-1055.51 487.95,-1047.23\"/>\n",
       "<polygon fill=\"black\" stroke=\"black\" points=\"491.37,-1046.47 485.65,-1037.55 484.56,-1048.09 491.37,-1046.47\"/>\n",
       "</g>\n",
       "<!-- 1371724522848 -->\n",
       "<g id=\"node22\" class=\"node\">\n",
       "<title>1371724522848</title>\n",
       "<polygon fill=\"lightgrey\" stroke=\"black\" points=\"571,-1149.25 471,-1149.25 471,-1128.5 571,-1128.5 571,-1149.25\"/>\n",
       "<text text-anchor=\"middle\" x=\"521\" y=\"-1135.75\" font-family=\"monospace\" font-size=\"10.00\">SliceBackward0</text>\n",
       "</g>\n",
       "<!-- 1371724522848&#45;&gt;1371724522752 -->\n",
       "<g id=\"edge20\" class=\"edge\">\n",
       "<title>1371724522848&#45;&gt;1371724522752</title>\n",
       "<path fill=\"none\" stroke=\"black\" d=\"M516.53,-1128.09C513.37,-1121.16 509.01,-1111.62 505.13,-1103.11\"/>\n",
       "<polygon fill=\"black\" stroke=\"black\" points=\"508.4,-1101.85 501.06,-1094.21 502.03,-1104.76 508.4,-1101.85\"/>\n",
       "</g>\n",
       "<!-- 1371724520016 -->\n",
       "<g id=\"node23\" class=\"node\">\n",
       "<title>1371724520016</title>\n",
       "<polygon fill=\"lightgrey\" stroke=\"black\" points=\"591,-1206 455,-1206 455,-1185.25 591,-1185.25 591,-1206\"/>\n",
       "<text text-anchor=\"middle\" x=\"523\" y=\"-1192.5\" font-family=\"monospace\" font-size=\"10.00\">ConvolutionBackward0</text>\n",
       "</g>\n",
       "<!-- 1371724520016&#45;&gt;1371724522848 -->\n",
       "<g id=\"edge21\" class=\"edge\">\n",
       "<title>1371724520016&#45;&gt;1371724522848</title>\n",
       "<path fill=\"none\" stroke=\"black\" d=\"M522.64,-1184.84C522.4,-1178.22 522.07,-1169.22 521.77,-1161.02\"/>\n",
       "<polygon fill=\"black\" stroke=\"black\" points=\"525.27,-1160.96 521.41,-1151.09 518.28,-1161.21 525.27,-1160.96\"/>\n",
       "</g>\n",
       "<!-- 1371724522368 -->\n",
       "<g id=\"node24\" class=\"node\">\n",
       "<title>1371724522368</title>\n",
       "<polygon fill=\"lightgrey\" stroke=\"black\" points=\"471,-1262.75 377,-1262.75 377,-1242 471,-1242 471,-1262.75\"/>\n",
       "<text text-anchor=\"middle\" x=\"424\" y=\"-1249.25\" font-family=\"monospace\" font-size=\"10.00\">ReluBackward0</text>\n",
       "</g>\n",
       "<!-- 1371724522368&#45;&gt;1371724520016 -->\n",
       "<g id=\"edge22\" class=\"edge\">\n",
       "<title>1371724522368&#45;&gt;1371724520016</title>\n",
       "<path fill=\"none\" stroke=\"black\" d=\"M441.7,-1241.59C456.62,-1233.33 478.23,-1221.38 495.42,-1211.88\"/>\n",
       "<polygon fill=\"black\" stroke=\"black\" points=\"497.07,-1214.96 504.13,-1207.06 493.68,-1208.84 497.07,-1214.96\"/>\n",
       "</g>\n",
       "<!-- 1371724513440 -->\n",
       "<g id=\"node61\" class=\"node\">\n",
       "<title>1371724513440</title>\n",
       "<polygon fill=\"lightgrey\" stroke=\"black\" points=\"412,-1206 276,-1206 276,-1185.25 412,-1185.25 412,-1206\"/>\n",
       "<text text-anchor=\"middle\" x=\"344\" y=\"-1192.5\" font-family=\"monospace\" font-size=\"10.00\">ConvolutionBackward0</text>\n",
       "</g>\n",
       "<!-- 1371724522368&#45;&gt;1371724513440 -->\n",
       "<g id=\"edge60\" class=\"edge\">\n",
       "<title>1371724522368&#45;&gt;1371724513440</title>\n",
       "<path fill=\"none\" stroke=\"black\" d=\"M409.7,-1241.59C397.98,-1233.57 381.16,-1222.06 367.47,-1212.69\"/>\n",
       "<polygon fill=\"black\" stroke=\"black\" points=\"369.66,-1209.94 359.43,-1207.18 365.7,-1215.72 369.66,-1209.94\"/>\n",
       "</g>\n",
       "<!-- 1371724520592 -->\n",
       "<g id=\"node25\" class=\"node\">\n",
       "<title>1371724520592</title>\n",
       "<polygon fill=\"lightgrey\" stroke=\"black\" points=\"468,-1325.88 380,-1325.88 380,-1305.12 468,-1305.12 468,-1325.88\"/>\n",
       "<text text-anchor=\"middle\" x=\"424\" y=\"-1312.38\" font-family=\"monospace\" font-size=\"10.00\">AddBackward0</text>\n",
       "</g>\n",
       "<!-- 1371724520592&#45;&gt;1371724522368 -->\n",
       "<g id=\"edge23\" class=\"edge\">\n",
       "<title>1371724520592&#45;&gt;1371724522368</title>\n",
       "<path fill=\"none\" stroke=\"black\" d=\"M424,-1304.68C424,-1296.52 424,-1284.63 424,-1274.35\"/>\n",
       "<polygon fill=\"black\" stroke=\"black\" points=\"427.5,-1274.48 424,-1264.48 420.5,-1274.48 427.5,-1274.48\"/>\n",
       "</g>\n",
       "<!-- 1371724518624 -->\n",
       "<g id=\"node26\" class=\"node\">\n",
       "<title>1371724518624</title>\n",
       "<polygon fill=\"lightgrey\" stroke=\"black\" points=\"418,-1389 270,-1389 270,-1368.25 418,-1368.25 418,-1389\"/>\n",
       "<text text-anchor=\"middle\" x=\"344\" y=\"-1375.5\" font-family=\"monospace\" font-size=\"10.00\">NativeDropoutBackward0</text>\n",
       "</g>\n",
       "<!-- 1371724518624&#45;&gt;1371724520592 -->\n",
       "<g id=\"edge24\" class=\"edge\">\n",
       "<title>1371724518624&#45;&gt;1371724520592</title>\n",
       "<path fill=\"none\" stroke=\"black\" d=\"M356.85,-1367.8C369.1,-1358.45 387.77,-1344.18 402.32,-1333.06\"/>\n",
       "<polygon fill=\"black\" stroke=\"black\" points=\"404.15,-1336.07 409.98,-1327.22 399.9,-1330.51 404.15,-1336.07\"/>\n",
       "</g>\n",
       "<!-- 1371724520256 -->\n",
       "<g id=\"node27\" class=\"node\">\n",
       "<title>1371724520256</title>\n",
       "<polygon fill=\"lightgrey\" stroke=\"black\" points=\"391,-1445.75 297,-1445.75 297,-1425 391,-1425 391,-1445.75\"/>\n",
       "<text text-anchor=\"middle\" x=\"344\" y=\"-1432.25\" font-family=\"monospace\" font-size=\"10.00\">ReluBackward0</text>\n",
       "</g>\n",
       "<!-- 1371724520256&#45;&gt;1371724518624 -->\n",
       "<g id=\"edge25\" class=\"edge\">\n",
       "<title>1371724520256&#45;&gt;1371724518624</title>\n",
       "<path fill=\"none\" stroke=\"black\" d=\"M344,-1424.59C344,-1417.97 344,-1408.97 344,-1400.77\"/>\n",
       "<polygon fill=\"black\" stroke=\"black\" points=\"347.5,-1400.84 344,-1390.84 340.5,-1400.84 347.5,-1400.84\"/>\n",
       "</g>\n",
       "<!-- 1371724525488 -->\n",
       "<g id=\"node28\" class=\"node\">\n",
       "<title>1371724525488</title>\n",
       "<polygon fill=\"lightgrey\" stroke=\"black\" points=\"394,-1508.88 294,-1508.88 294,-1488.12 394,-1488.12 394,-1508.88\"/>\n",
       "<text text-anchor=\"middle\" x=\"344\" y=\"-1495.38\" font-family=\"monospace\" font-size=\"10.00\">CloneBackward0</text>\n",
       "</g>\n",
       "<!-- 1371724525488&#45;&gt;1371724520256 -->\n",
       "<g id=\"edge26\" class=\"edge\">\n",
       "<title>1371724525488&#45;&gt;1371724520256</title>\n",
       "<path fill=\"none\" stroke=\"black\" d=\"M344,-1487.68C344,-1479.52 344,-1467.63 344,-1457.35\"/>\n",
       "<polygon fill=\"black\" stroke=\"black\" points=\"347.5,-1457.48 344,-1447.48 340.5,-1457.48 347.5,-1457.48\"/>\n",
       "</g>\n",
       "<!-- 1371724520688 -->\n",
       "<g id=\"node29\" class=\"node\">\n",
       "<title>1371724520688</title>\n",
       "<polygon fill=\"lightgrey\" stroke=\"black\" points=\"394,-1572 294,-1572 294,-1551.25 394,-1551.25 394,-1572\"/>\n",
       "<text text-anchor=\"middle\" x=\"344\" y=\"-1558.5\" font-family=\"monospace\" font-size=\"10.00\">SliceBackward0</text>\n",
       "</g>\n",
       "<!-- 1371724520688&#45;&gt;1371724525488 -->\n",
       "<g id=\"edge27\" class=\"edge\">\n",
       "<title>1371724520688&#45;&gt;1371724525488</title>\n",
       "<path fill=\"none\" stroke=\"black\" d=\"M344,-1550.8C344,-1542.65 344,-1530.76 344,-1520.48\"/>\n",
       "<polygon fill=\"black\" stroke=\"black\" points=\"347.5,-1520.61 344,-1510.61 340.5,-1520.61 347.5,-1520.61\"/>\n",
       "</g>\n",
       "<!-- 1371724519392 -->\n",
       "<g id=\"node30\" class=\"node\">\n",
       "<title>1371724519392</title>\n",
       "<polygon fill=\"lightgrey\" stroke=\"black\" points=\"394,-1628.75 294,-1628.75 294,-1608 394,-1608 394,-1628.75\"/>\n",
       "<text text-anchor=\"middle\" x=\"344\" y=\"-1615.25\" font-family=\"monospace\" font-size=\"10.00\">SliceBackward0</text>\n",
       "</g>\n",
       "<!-- 1371724519392&#45;&gt;1371724520688 -->\n",
       "<g id=\"edge28\" class=\"edge\">\n",
       "<title>1371724519392&#45;&gt;1371724520688</title>\n",
       "<path fill=\"none\" stroke=\"black\" d=\"M344,-1607.59C344,-1600.97 344,-1591.97 344,-1583.77\"/>\n",
       "<polygon fill=\"black\" stroke=\"black\" points=\"347.5,-1583.84 344,-1573.84 340.5,-1583.84 347.5,-1583.84\"/>\n",
       "</g>\n",
       "<!-- 1371724525296 -->\n",
       "<g id=\"node31\" class=\"node\">\n",
       "<title>1371724525296</title>\n",
       "<polygon fill=\"lightgrey\" stroke=\"black\" points=\"394,-1685.5 294,-1685.5 294,-1664.75 394,-1664.75 394,-1685.5\"/>\n",
       "<text text-anchor=\"middle\" x=\"344\" y=\"-1672\" font-family=\"monospace\" font-size=\"10.00\">SliceBackward0</text>\n",
       "</g>\n",
       "<!-- 1371724525296&#45;&gt;1371724519392 -->\n",
       "<g id=\"edge29\" class=\"edge\">\n",
       "<title>1371724525296&#45;&gt;1371724519392</title>\n",
       "<path fill=\"none\" stroke=\"black\" d=\"M344,-1664.34C344,-1657.72 344,-1648.72 344,-1640.52\"/>\n",
       "<polygon fill=\"black\" stroke=\"black\" points=\"347.5,-1640.59 344,-1630.59 340.5,-1640.59 347.5,-1640.59\"/>\n",
       "</g>\n",
       "<!-- 1371724522512 -->\n",
       "<g id=\"node32\" class=\"node\">\n",
       "<title>1371724522512</title>\n",
       "<polygon fill=\"lightgrey\" stroke=\"black\" points=\"412,-1742.25 276,-1742.25 276,-1721.5 412,-1721.5 412,-1742.25\"/>\n",
       "<text text-anchor=\"middle\" x=\"344\" y=\"-1728.75\" font-family=\"monospace\" font-size=\"10.00\">ConvolutionBackward0</text>\n",
       "</g>\n",
       "<!-- 1371724522512&#45;&gt;1371724525296 -->\n",
       "<g id=\"edge30\" class=\"edge\">\n",
       "<title>1371724522512&#45;&gt;1371724525296</title>\n",
       "<path fill=\"none\" stroke=\"black\" d=\"M344,-1721.09C344,-1714.47 344,-1705.47 344,-1697.27\"/>\n",
       "<polygon fill=\"black\" stroke=\"black\" points=\"347.5,-1697.34 344,-1687.34 340.5,-1697.34 347.5,-1697.34\"/>\n",
       "</g>\n",
       "<!-- 1371724519152 -->\n",
       "<g id=\"node33\" class=\"node\">\n",
       "<title>1371724519152</title>\n",
       "<polygon fill=\"lightgrey\" stroke=\"black\" points=\"276,-1799 128,-1799 128,-1778.25 276,-1778.25 276,-1799\"/>\n",
       "<text text-anchor=\"middle\" x=\"202\" y=\"-1785.5\" font-family=\"monospace\" font-size=\"10.00\">NativeDropoutBackward0</text>\n",
       "</g>\n",
       "<!-- 1371724519152&#45;&gt;1371724522512 -->\n",
       "<g id=\"edge31\" class=\"edge\">\n",
       "<title>1371724519152&#45;&gt;1371724522512</title>\n",
       "<path fill=\"none\" stroke=\"black\" d=\"M227.39,-1777.84C249.9,-1769.16 283.03,-1756.38 308.23,-1746.67\"/>\n",
       "<polygon fill=\"black\" stroke=\"black\" points=\"309.35,-1749.99 317.42,-1743.12 306.83,-1743.45 309.35,-1749.99\"/>\n",
       "</g>\n",
       "<!-- 1371724525392 -->\n",
       "<g id=\"node34\" class=\"node\">\n",
       "<title>1371724525392</title>\n",
       "<polygon fill=\"lightgrey\" stroke=\"black\" points=\"249,-1862.12 155,-1862.12 155,-1841.38 249,-1841.38 249,-1862.12\"/>\n",
       "<text text-anchor=\"middle\" x=\"202\" y=\"-1848.62\" font-family=\"monospace\" font-size=\"10.00\">ReluBackward0</text>\n",
       "</g>\n",
       "<!-- 1371724525392&#45;&gt;1371724519152 -->\n",
       "<g id=\"edge32\" class=\"edge\">\n",
       "<title>1371724525392&#45;&gt;1371724519152</title>\n",
       "<path fill=\"none\" stroke=\"black\" d=\"M202,-1840.93C202,-1832.77 202,-1820.88 202,-1810.6\"/>\n",
       "<polygon fill=\"black\" stroke=\"black\" points=\"205.5,-1810.73 202,-1800.73 198.5,-1810.73 205.5,-1810.73\"/>\n",
       "</g>\n",
       "<!-- 1371724521456 -->\n",
       "<g id=\"node35\" class=\"node\">\n",
       "<title>1371724521456</title>\n",
       "<polygon fill=\"lightgrey\" stroke=\"black\" points=\"252,-1925.25 152,-1925.25 152,-1904.5 252,-1904.5 252,-1925.25\"/>\n",
       "<text text-anchor=\"middle\" x=\"202\" y=\"-1911.75\" font-family=\"monospace\" font-size=\"10.00\">CloneBackward0</text>\n",
       "</g>\n",
       "<!-- 1371724521456&#45;&gt;1371724525392 -->\n",
       "<g id=\"edge33\" class=\"edge\">\n",
       "<title>1371724521456&#45;&gt;1371724525392</title>\n",
       "<path fill=\"none\" stroke=\"black\" d=\"M202,-1904.05C202,-1895.9 202,-1884.01 202,-1873.73\"/>\n",
       "<polygon fill=\"black\" stroke=\"black\" points=\"205.5,-1873.86 202,-1863.86 198.5,-1873.86 205.5,-1873.86\"/>\n",
       "</g>\n",
       "<!-- 1371724514688 -->\n",
       "<g id=\"node36\" class=\"node\">\n",
       "<title>1371724514688</title>\n",
       "<polygon fill=\"lightgrey\" stroke=\"black\" points=\"252,-1982 152,-1982 152,-1961.25 252,-1961.25 252,-1982\"/>\n",
       "<text text-anchor=\"middle\" x=\"202\" y=\"-1968.5\" font-family=\"monospace\" font-size=\"10.00\">SliceBackward0</text>\n",
       "</g>\n",
       "<!-- 1371724514688&#45;&gt;1371724521456 -->\n",
       "<g id=\"edge34\" class=\"edge\">\n",
       "<title>1371724514688&#45;&gt;1371724521456</title>\n",
       "<path fill=\"none\" stroke=\"black\" d=\"M202,-1960.84C202,-1954.22 202,-1945.22 202,-1937.02\"/>\n",
       "<polygon fill=\"black\" stroke=\"black\" points=\"205.5,-1937.09 202,-1927.09 198.5,-1937.09 205.5,-1937.09\"/>\n",
       "</g>\n",
       "<!-- 1371724524528 -->\n",
       "<g id=\"node37\" class=\"node\">\n",
       "<title>1371724524528</title>\n",
       "<polygon fill=\"lightgrey\" stroke=\"black\" points=\"252,-2038.75 152,-2038.75 152,-2018 252,-2018 252,-2038.75\"/>\n",
       "<text text-anchor=\"middle\" x=\"202\" y=\"-2025.25\" font-family=\"monospace\" font-size=\"10.00\">SliceBackward0</text>\n",
       "</g>\n",
       "<!-- 1371724524528&#45;&gt;1371724514688 -->\n",
       "<g id=\"edge35\" class=\"edge\">\n",
       "<title>1371724524528&#45;&gt;1371724514688</title>\n",
       "<path fill=\"none\" stroke=\"black\" d=\"M202,-2017.59C202,-2010.97 202,-2001.97 202,-1993.77\"/>\n",
       "<polygon fill=\"black\" stroke=\"black\" points=\"205.5,-1993.84 202,-1983.84 198.5,-1993.84 205.5,-1993.84\"/>\n",
       "</g>\n",
       "<!-- 1371724524816 -->\n",
       "<g id=\"node38\" class=\"node\">\n",
       "<title>1371724524816</title>\n",
       "<polygon fill=\"lightgrey\" stroke=\"black\" points=\"252,-2095.5 152,-2095.5 152,-2074.75 252,-2074.75 252,-2095.5\"/>\n",
       "<text text-anchor=\"middle\" x=\"202\" y=\"-2082\" font-family=\"monospace\" font-size=\"10.00\">SliceBackward0</text>\n",
       "</g>\n",
       "<!-- 1371724524816&#45;&gt;1371724524528 -->\n",
       "<g id=\"edge36\" class=\"edge\">\n",
       "<title>1371724524816&#45;&gt;1371724524528</title>\n",
       "<path fill=\"none\" stroke=\"black\" d=\"M202,-2074.34C202,-2067.72 202,-2058.72 202,-2050.52\"/>\n",
       "<polygon fill=\"black\" stroke=\"black\" points=\"205.5,-2050.59 202,-2040.59 198.5,-2050.59 205.5,-2050.59\"/>\n",
       "</g>\n",
       "<!-- 1371724525440 -->\n",
       "<g id=\"node39\" class=\"node\">\n",
       "<title>1371724525440</title>\n",
       "<polygon fill=\"lightgrey\" stroke=\"black\" points=\"270,-2152.25 134,-2152.25 134,-2131.5 270,-2131.5 270,-2152.25\"/>\n",
       "<text text-anchor=\"middle\" x=\"202\" y=\"-2138.75\" font-family=\"monospace\" font-size=\"10.00\">ConvolutionBackward0</text>\n",
       "</g>\n",
       "<!-- 1371724525440&#45;&gt;1371724524816 -->\n",
       "<g id=\"edge37\" class=\"edge\">\n",
       "<title>1371724525440&#45;&gt;1371724524816</title>\n",
       "<path fill=\"none\" stroke=\"black\" d=\"M202,-2131.09C202,-2124.47 202,-2115.47 202,-2107.27\"/>\n",
       "<polygon fill=\"black\" stroke=\"black\" points=\"205.5,-2107.34 202,-2097.34 198.5,-2107.34 205.5,-2107.34\"/>\n",
       "</g>\n",
       "<!-- 1371724514064 -->\n",
       "<g id=\"node40\" class=\"node\">\n",
       "<title>1371724514064</title>\n",
       "<polygon fill=\"lightgrey\" stroke=\"black\" points=\"193,-2209 93,-2209 93,-2188.25 193,-2188.25 193,-2209\"/>\n",
       "<text text-anchor=\"middle\" x=\"143\" y=\"-2195.5\" font-family=\"monospace\" font-size=\"10.00\">AccumulateGrad</text>\n",
       "</g>\n",
       "<!-- 1371724514064&#45;&gt;1371724525440 -->\n",
       "<g id=\"edge38\" class=\"edge\">\n",
       "<title>1371724514064&#45;&gt;1371724525440</title>\n",
       "<path fill=\"none\" stroke=\"black\" d=\"M153.55,-2187.84C161.77,-2180.21 173.4,-2169.42 183.2,-2160.32\"/>\n",
       "<polygon fill=\"black\" stroke=\"black\" points=\"185.48,-2162.98 190.43,-2153.61 180.72,-2157.84 185.48,-2162.98\"/>\n",
       "</g>\n",
       "<!-- 1372221212048 -->\n",
       "<g id=\"node41\" class=\"node\">\n",
       "<title>1372221212048</title>\n",
       "<polygon fill=\"lightblue\" stroke=\"black\" points=\"196,-2278.5 48,-2278.5 48,-2245 196,-2245 196,-2278.5\"/>\n",
       "<text text-anchor=\"middle\" x=\"122\" y=\"-2265\" font-family=\"monospace\" font-size=\"10.00\">network.0.conv1.weight</text>\n",
       "<text text-anchor=\"middle\" x=\"122\" y=\"-2252.25\" font-family=\"monospace\" font-size=\"10.00\"> (64, 6, 2)</text>\n",
       "</g>\n",
       "<!-- 1372221212048&#45;&gt;1371724514064 -->\n",
       "<g id=\"edge39\" class=\"edge\">\n",
       "<title>1372221212048&#45;&gt;1371724514064</title>\n",
       "<path fill=\"none\" stroke=\"black\" d=\"M127.52,-2244.69C130.1,-2237.18 133.2,-2228.15 135.95,-2220.15\"/>\n",
       "<polygon fill=\"black\" stroke=\"black\" points=\"139.19,-2221.49 139.13,-2210.9 132.57,-2219.22 139.19,-2221.49\"/>\n",
       "</g>\n",
       "<!-- 1371724523328 -->\n",
       "<g id=\"node42\" class=\"node\">\n",
       "<title>1371724523328</title>\n",
       "<polygon fill=\"lightgrey\" stroke=\"black\" points=\"321,-2209 221,-2209 221,-2188.25 321,-2188.25 321,-2209\"/>\n",
       "<text text-anchor=\"middle\" x=\"271\" y=\"-2195.5\" font-family=\"monospace\" font-size=\"10.00\">AccumulateGrad</text>\n",
       "</g>\n",
       "<!-- 1371724523328&#45;&gt;1371724525440 -->\n",
       "<g id=\"edge40\" class=\"edge\">\n",
       "<title>1371724523328&#45;&gt;1371724525440</title>\n",
       "<path fill=\"none\" stroke=\"black\" d=\"M258.66,-2187.84C248.75,-2179.97 234.61,-2168.75 222.94,-2159.49\"/>\n",
       "<polygon fill=\"black\" stroke=\"black\" points=\"225.42,-2156.99 215.41,-2153.52 221.07,-2162.48 225.42,-2156.99\"/>\n",
       "</g>\n",
       "<!-- 1370859385408 -->\n",
       "<g id=\"node43\" class=\"node\">\n",
       "<title>1370859385408</title>\n",
       "<polygon fill=\"lightblue\" stroke=\"black\" points=\"350,-2278.5 214,-2278.5 214,-2245 350,-2245 350,-2278.5\"/>\n",
       "<text text-anchor=\"middle\" x=\"282\" y=\"-2265\" font-family=\"monospace\" font-size=\"10.00\">network.0.conv1.bias</text>\n",
       "<text text-anchor=\"middle\" x=\"282\" y=\"-2252.25\" font-family=\"monospace\" font-size=\"10.00\"> (64)</text>\n",
       "</g>\n",
       "<!-- 1370859385408&#45;&gt;1371724523328 -->\n",
       "<g id=\"edge41\" class=\"edge\">\n",
       "<title>1370859385408&#45;&gt;1371724523328</title>\n",
       "<path fill=\"none\" stroke=\"black\" d=\"M279.11,-2244.69C277.79,-2237.35 276.21,-2228.57 274.79,-2220.71\"/>\n",
       "<polygon fill=\"black\" stroke=\"black\" points=\"278.26,-2220.18 273.04,-2210.96 271.37,-2221.42 278.26,-2220.18\"/>\n",
       "</g>\n",
       "<!-- 1371724522176 -->\n",
       "<g id=\"node44\" class=\"node\">\n",
       "<title>1371724522176</title>\n",
       "<polygon fill=\"lightgrey\" stroke=\"black\" points=\"394,-1799 294,-1799 294,-1778.25 394,-1778.25 394,-1799\"/>\n",
       "<text text-anchor=\"middle\" x=\"344\" y=\"-1785.5\" font-family=\"monospace\" font-size=\"10.00\">AccumulateGrad</text>\n",
       "</g>\n",
       "<!-- 1371724522176&#45;&gt;1371724522512 -->\n",
       "<g id=\"edge42\" class=\"edge\">\n",
       "<title>1371724522176&#45;&gt;1371724522512</title>\n",
       "<path fill=\"none\" stroke=\"black\" d=\"M344,-1777.84C344,-1771.22 344,-1762.22 344,-1754.02\"/>\n",
       "<polygon fill=\"black\" stroke=\"black\" points=\"347.5,-1754.09 344,-1744.09 340.5,-1754.09 347.5,-1754.09\"/>\n",
       "</g>\n",
       "<!-- 1371724256960 -->\n",
       "<g id=\"node45\" class=\"node\">\n",
       "<title>1371724256960</title>\n",
       "<polygon fill=\"lightblue\" stroke=\"black\" points=\"416,-1868.5 268,-1868.5 268,-1835 416,-1835 416,-1868.5\"/>\n",
       "<text text-anchor=\"middle\" x=\"342\" y=\"-1855\" font-family=\"monospace\" font-size=\"10.00\">network.0.conv2.weight</text>\n",
       "<text text-anchor=\"middle\" x=\"342\" y=\"-1842.25\" font-family=\"monospace\" font-size=\"10.00\"> (64, 64, 2)</text>\n",
       "</g>\n",
       "<!-- 1371724256960&#45;&gt;1371724522176 -->\n",
       "<g id=\"edge43\" class=\"edge\">\n",
       "<title>1371724256960&#45;&gt;1371724522176</title>\n",
       "<path fill=\"none\" stroke=\"black\" d=\"M342.53,-1834.69C342.77,-1827.35 343.05,-1818.57 343.31,-1810.71\"/>\n",
       "<polygon fill=\"black\" stroke=\"black\" points=\"346.8,-1811.09 343.63,-1800.98 339.8,-1810.86 346.8,-1811.09\"/>\n",
       "</g>\n",
       "<!-- 1371724518384 -->\n",
       "<g id=\"node46\" class=\"node\">\n",
       "<title>1371724518384</title>\n",
       "<polygon fill=\"lightgrey\" stroke=\"black\" points=\"532,-1799 432,-1799 432,-1778.25 532,-1778.25 532,-1799\"/>\n",
       "<text text-anchor=\"middle\" x=\"482\" y=\"-1785.5\" font-family=\"monospace\" font-size=\"10.00\">AccumulateGrad</text>\n",
       "</g>\n",
       "<!-- 1371724518384&#45;&gt;1371724522512 -->\n",
       "<g id=\"edge44\" class=\"edge\">\n",
       "<title>1371724518384&#45;&gt;1371724522512</title>\n",
       "<path fill=\"none\" stroke=\"black\" d=\"M457.33,-1777.84C435.55,-1769.19 403.54,-1756.5 379.09,-1746.8\"/>\n",
       "<polygon fill=\"black\" stroke=\"black\" points=\"380.45,-1743.57 369.86,-1743.14 377.87,-1750.08 380.45,-1743.57\"/>\n",
       "</g>\n",
       "<!-- 1371724262880 -->\n",
       "<g id=\"node47\" class=\"node\">\n",
       "<title>1371724262880</title>\n",
       "<polygon fill=\"lightblue\" stroke=\"black\" points=\"570,-1868.5 434,-1868.5 434,-1835 570,-1835 570,-1868.5\"/>\n",
       "<text text-anchor=\"middle\" x=\"502\" y=\"-1855\" font-family=\"monospace\" font-size=\"10.00\">network.0.conv2.bias</text>\n",
       "<text text-anchor=\"middle\" x=\"502\" y=\"-1842.25\" font-family=\"monospace\" font-size=\"10.00\"> (64)</text>\n",
       "</g>\n",
       "<!-- 1371724262880&#45;&gt;1371724518384 -->\n",
       "<g id=\"edge45\" class=\"edge\">\n",
       "<title>1371724262880&#45;&gt;1371724518384</title>\n",
       "<path fill=\"none\" stroke=\"black\" d=\"M496.75,-1834.69C494.29,-1827.18 491.33,-1818.15 488.72,-1810.15\"/>\n",
       "<polygon fill=\"black\" stroke=\"black\" points=\"492.13,-1809.32 485.69,-1800.91 485.47,-1811.5 492.13,-1809.32\"/>\n",
       "</g>\n",
       "<!-- 1371724516608 -->\n",
       "<g id=\"node48\" class=\"node\">\n",
       "<title>1371724516608</title>\n",
       "<polygon fill=\"lightgrey\" stroke=\"black\" points=\"572,-1389 436,-1389 436,-1368.25 572,-1368.25 572,-1389\"/>\n",
       "<text text-anchor=\"middle\" x=\"504\" y=\"-1375.5\" font-family=\"monospace\" font-size=\"10.00\">ConvolutionBackward0</text>\n",
       "</g>\n",
       "<!-- 1371724516608&#45;&gt;1371724520592 -->\n",
       "<g id=\"edge46\" class=\"edge\">\n",
       "<title>1371724516608&#45;&gt;1371724520592</title>\n",
       "<path fill=\"none\" stroke=\"black\" d=\"M491.15,-1367.8C478.9,-1358.45 460.23,-1344.18 445.68,-1333.06\"/>\n",
       "<polygon fill=\"black\" stroke=\"black\" points=\"448.1,-1330.51 438.02,-1327.22 443.85,-1336.07 448.1,-1330.51\"/>\n",
       "</g>\n",
       "<!-- 1371724519344 -->\n",
       "<g id=\"node49\" class=\"node\">\n",
       "<title>1371724519344</title>\n",
       "<polygon fill=\"lightgrey\" stroke=\"black\" points=\"553,-1445.75 453,-1445.75 453,-1425 553,-1425 553,-1445.75\"/>\n",
       "<text text-anchor=\"middle\" x=\"503\" y=\"-1432.25\" font-family=\"monospace\" font-size=\"10.00\">AccumulateGrad</text>\n",
       "</g>\n",
       "<!-- 1371724519344&#45;&gt;1371724516608 -->\n",
       "<g id=\"edge47\" class=\"edge\">\n",
       "<title>1371724519344&#45;&gt;1371724516608</title>\n",
       "<path fill=\"none\" stroke=\"black\" d=\"M503.18,-1424.59C503.3,-1417.97 503.46,-1408.97 503.61,-1400.77\"/>\n",
       "<polygon fill=\"black\" stroke=\"black\" points=\"507.11,-1400.9 503.8,-1390.84 500.11,-1400.78 507.11,-1400.9\"/>\n",
       "</g>\n",
       "<!-- 1370859385888 -->\n",
       "<g id=\"node50\" class=\"node\">\n",
       "<title>1370859385888</title>\n",
       "<polygon fill=\"lightblue\" stroke=\"black\" points=\"591,-1515.25 413,-1515.25 413,-1481.75 591,-1481.75 591,-1515.25\"/>\n",
       "<text text-anchor=\"middle\" x=\"502\" y=\"-1501.75\" font-family=\"monospace\" font-size=\"10.00\">network.0.downsample.weight</text>\n",
       "<text text-anchor=\"middle\" x=\"502\" y=\"-1489\" font-family=\"monospace\" font-size=\"10.00\"> (64, 6, 1)</text>\n",
       "</g>\n",
       "<!-- 1370859385888&#45;&gt;1371724519344 -->\n",
       "<g id=\"edge48\" class=\"edge\">\n",
       "<title>1370859385888&#45;&gt;1371724519344</title>\n",
       "<path fill=\"none\" stroke=\"black\" d=\"M502.26,-1481.44C502.38,-1474.1 502.53,-1465.32 502.66,-1457.46\"/>\n",
       "<polygon fill=\"black\" stroke=\"black\" points=\"506.15,-1457.79 502.81,-1447.73 499.15,-1457.67 506.15,-1457.79\"/>\n",
       "</g>\n",
       "<!-- 1371724527888 -->\n",
       "<g id=\"node51\" class=\"node\">\n",
       "<title>1371724527888</title>\n",
       "<polygon fill=\"lightgrey\" stroke=\"black\" points=\"707,-1445.75 607,-1445.75 607,-1425 707,-1425 707,-1445.75\"/>\n",
       "<text text-anchor=\"middle\" x=\"657\" y=\"-1432.25\" font-family=\"monospace\" font-size=\"10.00\">AccumulateGrad</text>\n",
       "</g>\n",
       "<!-- 1371724527888&#45;&gt;1371724516608 -->\n",
       "<g id=\"edge49\" class=\"edge\">\n",
       "<title>1371724527888&#45;&gt;1371724516608</title>\n",
       "<path fill=\"none\" stroke=\"black\" d=\"M629.65,-1424.59C605.25,-1415.86 569.28,-1402.98 542.07,-1393.25\"/>\n",
       "<polygon fill=\"black\" stroke=\"black\" points=\"543.39,-1390 532.8,-1389.93 541.04,-1396.6 543.39,-1390\"/>\n",
       "</g>\n",
       "<!-- 1371650745152 -->\n",
       "<g id=\"node52\" class=\"node\">\n",
       "<title>1371650745152</title>\n",
       "<polygon fill=\"lightblue\" stroke=\"black\" points=\"775,-1515.25 609,-1515.25 609,-1481.75 775,-1481.75 775,-1515.25\"/>\n",
       "<text text-anchor=\"middle\" x=\"692\" y=\"-1501.75\" font-family=\"monospace\" font-size=\"10.00\">network.0.downsample.bias</text>\n",
       "<text text-anchor=\"middle\" x=\"692\" y=\"-1489\" font-family=\"monospace\" font-size=\"10.00\"> (64)</text>\n",
       "</g>\n",
       "<!-- 1371650745152&#45;&gt;1371724527888 -->\n",
       "<g id=\"edge50\" class=\"edge\">\n",
       "<title>1371650745152&#45;&gt;1371724527888</title>\n",
       "<path fill=\"none\" stroke=\"black\" d=\"M682.8,-1481.44C678.35,-1473.67 672.97,-1464.27 668.28,-1456.07\"/>\n",
       "<polygon fill=\"black\" stroke=\"black\" points=\"671.39,-1454.47 663.39,-1447.53 665.32,-1457.95 671.39,-1454.47\"/>\n",
       "</g>\n",
       "<!-- 1371724525536 -->\n",
       "<g id=\"node53\" class=\"node\">\n",
       "<title>1371724525536</title>\n",
       "<polygon fill=\"lightgrey\" stroke=\"black\" points=\"599,-1262.75 499,-1262.75 499,-1242 599,-1242 599,-1262.75\"/>\n",
       "<text text-anchor=\"middle\" x=\"549\" y=\"-1249.25\" font-family=\"monospace\" font-size=\"10.00\">AccumulateGrad</text>\n",
       "</g>\n",
       "<!-- 1371724525536&#45;&gt;1371724520016 -->\n",
       "<g id=\"edge51\" class=\"edge\">\n",
       "<title>1371724525536&#45;&gt;1371724520016</title>\n",
       "<path fill=\"none\" stroke=\"black\" d=\"M544.35,-1241.59C541.06,-1234.66 536.53,-1225.12 532.49,-1216.61\"/>\n",
       "<polygon fill=\"black\" stroke=\"black\" points=\"535.71,-1215.23 528.26,-1207.7 529.39,-1218.23 535.71,-1215.23\"/>\n",
       "</g>\n",
       "<!-- 1371842756832 -->\n",
       "<g id=\"node54\" class=\"node\">\n",
       "<title>1371842756832</title>\n",
       "<polygon fill=\"lightblue\" stroke=\"black\" points=\"634,-1332.25 486,-1332.25 486,-1298.75 634,-1298.75 634,-1332.25\"/>\n",
       "<text text-anchor=\"middle\" x=\"560\" y=\"-1318.75\" font-family=\"monospace\" font-size=\"10.00\">network.1.conv1.weight</text>\n",
       "<text text-anchor=\"middle\" x=\"560\" y=\"-1306\" font-family=\"monospace\" font-size=\"10.00\"> (32, 64, 2)</text>\n",
       "</g>\n",
       "<!-- 1371842756832&#45;&gt;1371724525536 -->\n",
       "<g id=\"edge52\" class=\"edge\">\n",
       "<title>1371842756832&#45;&gt;1371724525536</title>\n",
       "<path fill=\"none\" stroke=\"black\" d=\"M557.11,-1298.44C555.79,-1291.1 554.21,-1282.32 552.79,-1274.46\"/>\n",
       "<polygon fill=\"black\" stroke=\"black\" points=\"556.26,-1273.93 551.04,-1264.71 549.37,-1275.17 556.26,-1273.93\"/>\n",
       "</g>\n",
       "<!-- 1371724515168 -->\n",
       "<g id=\"node55\" class=\"node\">\n",
       "<title>1371724515168</title>\n",
       "<polygon fill=\"lightgrey\" stroke=\"black\" points=\"743,-1262.75 643,-1262.75 643,-1242 743,-1242 743,-1262.75\"/>\n",
       "<text text-anchor=\"middle\" x=\"693\" y=\"-1249.25\" font-family=\"monospace\" font-size=\"10.00\">AccumulateGrad</text>\n",
       "</g>\n",
       "<!-- 1371724515168&#45;&gt;1371724520016 -->\n",
       "<g id=\"edge53\" class=\"edge\">\n",
       "<title>1371724515168&#45;&gt;1371724520016</title>\n",
       "<path fill=\"none\" stroke=\"black\" d=\"M662.61,-1241.59C635.13,-1232.74 594.46,-1219.64 564.09,-1209.86\"/>\n",
       "<polygon fill=\"black\" stroke=\"black\" points=\"565.45,-1206.62 554.86,-1206.88 563.3,-1213.28 565.45,-1206.62\"/>\n",
       "</g>\n",
       "<!-- 1371842757152 -->\n",
       "<g id=\"node56\" class=\"node\">\n",
       "<title>1371842757152</title>\n",
       "<polygon fill=\"lightblue\" stroke=\"black\" points=\"788,-1332.25 652,-1332.25 652,-1298.75 788,-1298.75 788,-1332.25\"/>\n",
       "<text text-anchor=\"middle\" x=\"720\" y=\"-1318.75\" font-family=\"monospace\" font-size=\"10.00\">network.1.conv1.bias</text>\n",
       "<text text-anchor=\"middle\" x=\"720\" y=\"-1306\" font-family=\"monospace\" font-size=\"10.00\"> (32)</text>\n",
       "</g>\n",
       "<!-- 1371842757152&#45;&gt;1371724515168 -->\n",
       "<g id=\"edge54\" class=\"edge\">\n",
       "<title>1371842757152&#45;&gt;1371724515168</title>\n",
       "<path fill=\"none\" stroke=\"black\" d=\"M712.91,-1298.44C709.55,-1290.84 705.51,-1281.69 701.94,-1273.62\"/>\n",
       "<polygon fill=\"black\" stroke=\"black\" points=\"705.2,-1272.33 697.96,-1264.6 698.8,-1275.16 705.2,-1272.33\"/>\n",
       "</g>\n",
       "<!-- 1371724515312 -->\n",
       "<g id=\"node57\" class=\"node\">\n",
       "<title>1371724515312</title>\n",
       "<polygon fill=\"lightgrey\" stroke=\"black\" points=\"665,-852.75 565,-852.75 565,-832 665,-832 665,-852.75\"/>\n",
       "<text text-anchor=\"middle\" x=\"615\" y=\"-839.25\" font-family=\"monospace\" font-size=\"10.00\">AccumulateGrad</text>\n",
       "</g>\n",
       "<!-- 1371724515312&#45;&gt;1371724526832 -->\n",
       "<g id=\"edge55\" class=\"edge\">\n",
       "<title>1371724515312&#45;&gt;1371724526832</title>\n",
       "<path fill=\"none\" stroke=\"black\" d=\"M602.31,-831.59C592.11,-823.72 577.56,-812.5 565.54,-803.24\"/>\n",
       "<polygon fill=\"black\" stroke=\"black\" points=\"567.84,-800.59 557.78,-797.25 563.56,-806.13 567.84,-800.59\"/>\n",
       "</g>\n",
       "<!-- 1371653511008 -->\n",
       "<g id=\"node58\" class=\"node\">\n",
       "<title>1371653511008</title>\n",
       "<polygon fill=\"lightblue\" stroke=\"black\" points=\"688,-922.25 540,-922.25 540,-888.75 688,-888.75 688,-922.25\"/>\n",
       "<text text-anchor=\"middle\" x=\"614\" y=\"-908.75\" font-family=\"monospace\" font-size=\"10.00\">network.1.conv2.weight</text>\n",
       "<text text-anchor=\"middle\" x=\"614\" y=\"-896\" font-family=\"monospace\" font-size=\"10.00\"> (32, 32, 2)</text>\n",
       "</g>\n",
       "<!-- 1371653511008&#45;&gt;1371724515312 -->\n",
       "<g id=\"edge56\" class=\"edge\">\n",
       "<title>1371653511008&#45;&gt;1371724515312</title>\n",
       "<path fill=\"none\" stroke=\"black\" d=\"M614.26,-888.44C614.38,-881.1 614.53,-872.32 614.66,-864.46\"/>\n",
       "<polygon fill=\"black\" stroke=\"black\" points=\"618.15,-864.79 614.81,-854.73 611.15,-864.67 618.15,-864.79\"/>\n",
       "</g>\n",
       "<!-- 1371724517136 -->\n",
       "<g id=\"node59\" class=\"node\">\n",
       "<title>1371724517136</title>\n",
       "<polygon fill=\"lightgrey\" stroke=\"black\" points=\"803,-852.75 703,-852.75 703,-832 803,-832 803,-852.75\"/>\n",
       "<text text-anchor=\"middle\" x=\"753\" y=\"-839.25\" font-family=\"monospace\" font-size=\"10.00\">AccumulateGrad</text>\n",
       "</g>\n",
       "<!-- 1371724517136&#45;&gt;1371724526832 -->\n",
       "<g id=\"edge57\" class=\"edge\">\n",
       "<title>1371724517136&#45;&gt;1371724526832</title>\n",
       "<path fill=\"none\" stroke=\"black\" d=\"M715.63,-831.59C681.12,-822.54 629.65,-809.06 592.08,-799.22\"/>\n",
       "<polygon fill=\"black\" stroke=\"black\" points=\"593.42,-795.95 582.86,-796.8 591.64,-802.72 593.42,-795.95\"/>\n",
       "</g>\n",
       "<!-- 1371842757392 -->\n",
       "<g id=\"node60\" class=\"node\">\n",
       "<title>1371842757392</title>\n",
       "<polygon fill=\"lightblue\" stroke=\"black\" points=\"842,-922.25 706,-922.25 706,-888.75 842,-888.75 842,-922.25\"/>\n",
       "<text text-anchor=\"middle\" x=\"774\" y=\"-908.75\" font-family=\"monospace\" font-size=\"10.00\">network.1.conv2.bias</text>\n",
       "<text text-anchor=\"middle\" x=\"774\" y=\"-896\" font-family=\"monospace\" font-size=\"10.00\"> (32)</text>\n",
       "</g>\n",
       "<!-- 1371842757392&#45;&gt;1371724517136 -->\n",
       "<g id=\"edge58\" class=\"edge\">\n",
       "<title>1371842757392&#45;&gt;1371724517136</title>\n",
       "<path fill=\"none\" stroke=\"black\" d=\"M768.48,-888.44C765.9,-880.93 762.8,-871.9 760.05,-863.9\"/>\n",
       "<polygon fill=\"black\" stroke=\"black\" points=\"763.43,-862.97 756.87,-854.65 756.81,-865.24 763.43,-862.97\"/>\n",
       "</g>\n",
       "<!-- 1371724513440&#45;&gt;1371724513536 -->\n",
       "<g id=\"edge59\" class=\"edge\">\n",
       "<title>1371724513440&#45;&gt;1371724513536</title>\n",
       "<path fill=\"none\" stroke=\"black\" d=\"M347.84,-1184.96C355.07,-1165.84 370,-1121.69 370,-1083.12 370,-1083.12 370,-1083.12 370,-500.88 370,-465.75 391.19,-429.59 406.25,-408.31\"/>\n",
       "<polygon fill=\"black\" stroke=\"black\" points=\"409,-410.47 412.13,-400.35 403.37,-406.31 409,-410.47\"/>\n",
       "</g>\n",
       "<!-- 1371724516368 -->\n",
       "<g id=\"node62\" class=\"node\">\n",
       "<title>1371724516368</title>\n",
       "<polygon fill=\"lightgrey\" stroke=\"black\" points=\"190,-1262.75 90,-1262.75 90,-1242 190,-1242 190,-1262.75\"/>\n",
       "<text text-anchor=\"middle\" x=\"140\" y=\"-1249.25\" font-family=\"monospace\" font-size=\"10.00\">AccumulateGrad</text>\n",
       "</g>\n",
       "<!-- 1371724516368&#45;&gt;1371724513440 -->\n",
       "<g id=\"edge61\" class=\"edge\">\n",
       "<title>1371724516368&#45;&gt;1371724513440</title>\n",
       "<path fill=\"none\" stroke=\"black\" d=\"M176.47,-1241.59C210.02,-1232.58 259.96,-1219.18 296.59,-1209.35\"/>\n",
       "<polygon fill=\"black\" stroke=\"black\" points=\"297.29,-1212.79 306.04,-1206.81 295.47,-1206.02 297.29,-1212.79\"/>\n",
       "</g>\n",
       "<!-- 1370859385808 -->\n",
       "<g id=\"node63\" class=\"node\">\n",
       "<title>1370859385808</title>\n",
       "<polygon fill=\"lightblue\" stroke=\"black\" points=\"178,-1332.25 0,-1332.25 0,-1298.75 178,-1298.75 178,-1332.25\"/>\n",
       "<text text-anchor=\"middle\" x=\"89\" y=\"-1318.75\" font-family=\"monospace\" font-size=\"10.00\">network.1.downsample.weight</text>\n",
       "<text text-anchor=\"middle\" x=\"89\" y=\"-1306\" font-family=\"monospace\" font-size=\"10.00\"> (32, 64, 1)</text>\n",
       "</g>\n",
       "<!-- 1370859385808&#45;&gt;1371724516368 -->\n",
       "<g id=\"edge62\" class=\"edge\">\n",
       "<title>1370859385808&#45;&gt;1371724516368</title>\n",
       "<path fill=\"none\" stroke=\"black\" d=\"M102.4,-1298.44C109.18,-1290.32 117.44,-1280.42 124.49,-1271.97\"/>\n",
       "<polygon fill=\"black\" stroke=\"black\" points=\"127.1,-1274.3 130.82,-1264.38 121.72,-1269.82 127.1,-1274.3\"/>\n",
       "</g>\n",
       "<!-- 1371724514592 -->\n",
       "<g id=\"node64\" class=\"node\">\n",
       "<title>1371724514592</title>\n",
       "<polygon fill=\"lightgrey\" stroke=\"black\" points=\"344,-1262.75 244,-1262.75 244,-1242 344,-1242 344,-1262.75\"/>\n",
       "<text text-anchor=\"middle\" x=\"294\" y=\"-1249.25\" font-family=\"monospace\" font-size=\"10.00\">AccumulateGrad</text>\n",
       "</g>\n",
       "<!-- 1371724514592&#45;&gt;1371724513440 -->\n",
       "<g id=\"edge63\" class=\"edge\">\n",
       "<title>1371724514592&#45;&gt;1371724513440</title>\n",
       "<path fill=\"none\" stroke=\"black\" d=\"M302.94,-1241.59C309.76,-1234.11 319.36,-1223.61 327.56,-1214.63\"/>\n",
       "<polygon fill=\"black\" stroke=\"black\" points=\"329.96,-1217.19 334.12,-1207.45 324.79,-1212.47 329.96,-1217.19\"/>\n",
       "</g>\n",
       "<!-- 1371842758192 -->\n",
       "<g id=\"node65\" class=\"node\">\n",
       "<title>1371842758192</title>\n",
       "<polygon fill=\"lightblue\" stroke=\"black\" points=\"362,-1332.25 196,-1332.25 196,-1298.75 362,-1298.75 362,-1332.25\"/>\n",
       "<text text-anchor=\"middle\" x=\"279\" y=\"-1318.75\" font-family=\"monospace\" font-size=\"10.00\">network.1.downsample.bias</text>\n",
       "<text text-anchor=\"middle\" x=\"279\" y=\"-1306\" font-family=\"monospace\" font-size=\"10.00\"> (32)</text>\n",
       "</g>\n",
       "<!-- 1371842758192&#45;&gt;1371724514592 -->\n",
       "<g id=\"edge64\" class=\"edge\">\n",
       "<title>1371842758192&#45;&gt;1371724514592</title>\n",
       "<path fill=\"none\" stroke=\"black\" d=\"M282.94,-1298.44C284.76,-1291.02 286.95,-1282.11 288.89,-1274.18\"/>\n",
       "<polygon fill=\"black\" stroke=\"black\" points=\"292.24,-1275.23 291.22,-1264.69 285.44,-1273.56 292.24,-1275.23\"/>\n",
       "</g>\n",
       "<!-- 1371724513920 -->\n",
       "<g id=\"node66\" class=\"node\">\n",
       "<title>1371724513920</title>\n",
       "<polygon fill=\"lightgrey\" stroke=\"black\" points=\"573,-146.25 497,-146.25 497,-125.5 573,-125.5 573,-146.25\"/>\n",
       "<text text-anchor=\"middle\" x=\"535\" y=\"-132.75\" font-family=\"monospace\" font-size=\"10.00\">TBackward0</text>\n",
       "</g>\n",
       "<!-- 1371724513920&#45;&gt;1371724521648 -->\n",
       "<g id=\"edge65\" class=\"edge\">\n",
       "<title>1371724513920&#45;&gt;1371724521648</title>\n",
       "<path fill=\"none\" stroke=\"black\" d=\"M515.16,-125.09C498.11,-116.68 473.28,-104.43 453.84,-94.84\"/>\n",
       "<polygon fill=\"black\" stroke=\"black\" points=\"455.55,-91.78 445.03,-90.5 452.45,-98.06 455.55,-91.78\"/>\n",
       "</g>\n",
       "<!-- 1371724514784 -->\n",
       "<g id=\"node67\" class=\"node\">\n",
       "<title>1371724514784</title>\n",
       "<polygon fill=\"lightgrey\" stroke=\"black\" points=\"589,-209.38 489,-209.38 489,-188.62 589,-188.62 589,-209.38\"/>\n",
       "<text text-anchor=\"middle\" x=\"539\" y=\"-195.88\" font-family=\"monospace\" font-size=\"10.00\">AccumulateGrad</text>\n",
       "</g>\n",
       "<!-- 1371724514784&#45;&gt;1371724513920 -->\n",
       "<g id=\"edge66\" class=\"edge\">\n",
       "<title>1371724514784&#45;&gt;1371724513920</title>\n",
       "<path fill=\"none\" stroke=\"black\" d=\"M538.36,-188.18C537.82,-180.02 537.05,-168.13 536.37,-157.85\"/>\n",
       "<polygon fill=\"black\" stroke=\"black\" points=\"539.87,-157.73 535.73,-147.98 532.89,-158.19 539.87,-157.73\"/>\n",
       "</g>\n",
       "<!-- 1370859436640 -->\n",
       "<g id=\"node68\" class=\"node\">\n",
       "<title>1370859436640</title>\n",
       "<polygon fill=\"lightblue\" stroke=\"black\" points=\"574,-285.25 504,-285.25 504,-251.75 574,-251.75 574,-285.25\"/>\n",
       "<text text-anchor=\"middle\" x=\"539\" y=\"-271.75\" font-family=\"monospace\" font-size=\"10.00\">fc.weight</text>\n",
       "<text text-anchor=\"middle\" x=\"539\" y=\"-259\" font-family=\"monospace\" font-size=\"10.00\"> (1, 32)</text>\n",
       "</g>\n",
       "<!-- 1370859436640&#45;&gt;1371724514784 -->\n",
       "<g id=\"edge67\" class=\"edge\">\n",
       "<title>1370859436640&#45;&gt;1371724514784</title>\n",
       "<path fill=\"none\" stroke=\"black\" d=\"M539,-251.5C539,-242.4 539,-230.89 539,-221.07\"/>\n",
       "<polygon fill=\"black\" stroke=\"black\" points=\"542.5,-221.34 539,-211.34 535.5,-221.34 542.5,-221.34\"/>\n",
       "</g>\n",
       "</g>\n",
       "</svg>\n"
      ],
      "text/plain": [
       "<graphviz.graphs.Digraph at 0x13f612725f0>"
      ]
     },
     "metadata": {},
     "output_type": "display_data"
    }
   ],
   "source": [
    "print(\"Model Computational Graph:\")\n",
    "display(dot)  # Display the computational graph image"
   ]
  },
  {
   "cell_type": "markdown",
   "metadata": {},
   "source": [
    "### Training"
   ]
  },
  {
   "cell_type": "code",
   "execution_count": null,
   "metadata": {},
   "outputs": [],
   "source": [
    "epochs = 100  # Maximum number of training epochs\n",
    "criterion = nn.MSELoss()  # Loss function for regression\n",
    "optimizer = optim.Adam(model.parameters(), lr=1e-3)  # Adam optimizer with specified learning rate\n",
    "patience = 10  # Early stopping patience"
   ]
  },
  {
   "cell_type": "code",
   "execution_count": null,
   "metadata": {},
   "outputs": [],
   "source": [
    "train_losses = []  # List to store training loss for each epoch\n",
    "val_losses = []    # List to store validation loss for each epoch\n",
    "best_val_loss = float(\"inf\")  # Initialize best validation loss to infinity\n",
    "epochs_no_improve = 0  # Counter for early stopping"
   ]
  },
  {
   "cell_type": "code",
   "execution_count": null,
   "metadata": {},
   "outputs": [
    {
     "name": "stderr",
     "output_type": "stream",
     "text": [
      "Epoch 1/100 [Training]:   0%|          | 0/2213 [00:00<?, ?it/s]"
     ]
    },
    {
     "name": "stderr",
     "output_type": "stream",
     "text": [
      "                                                                            \r"
     ]
    },
    {
     "name": "stdout",
     "output_type": "stream",
     "text": [
      "Epoch: 1/100 | Train Loss: 0.4793 | Val Loss: 0.4622\n"
     ]
    },
    {
     "name": "stderr",
     "output_type": "stream",
     "text": [
      "                                                                            \r"
     ]
    },
    {
     "name": "stdout",
     "output_type": "stream",
     "text": [
      "Epoch: 2/100 | Train Loss: 0.4580 | Val Loss: 0.4519\n"
     ]
    },
    {
     "name": "stderr",
     "output_type": "stream",
     "text": [
      "                                                                            \r"
     ]
    },
    {
     "name": "stdout",
     "output_type": "stream",
     "text": [
      "Epoch: 3/100 | Train Loss: 0.4521 | Val Loss: 0.4449\n"
     ]
    },
    {
     "name": "stderr",
     "output_type": "stream",
     "text": [
      "                                                                            \r"
     ]
    },
    {
     "name": "stdout",
     "output_type": "stream",
     "text": [
      "Epoch: 4/100 | Train Loss: 0.4486 | Val Loss: 0.4417\n"
     ]
    },
    {
     "name": "stderr",
     "output_type": "stream",
     "text": [
      "                                                                            \r"
     ]
    },
    {
     "name": "stdout",
     "output_type": "stream",
     "text": [
      "Epoch: 5/100 | Train Loss: 0.4448 | Val Loss: 0.4391\n"
     ]
    },
    {
     "name": "stderr",
     "output_type": "stream",
     "text": [
      "                                                                            \r"
     ]
    },
    {
     "name": "stdout",
     "output_type": "stream",
     "text": [
      "Epoch: 6/100 | Train Loss: 0.4417 | Val Loss: 0.4347\n"
     ]
    },
    {
     "name": "stderr",
     "output_type": "stream",
     "text": [
      "                                                                            \r"
     ]
    },
    {
     "name": "stdout",
     "output_type": "stream",
     "text": [
      "Epoch: 7/100 | Train Loss: 0.4395 | Val Loss: 0.4334\n"
     ]
    },
    {
     "name": "stderr",
     "output_type": "stream",
     "text": [
      "                                                                            \r"
     ]
    },
    {
     "name": "stdout",
     "output_type": "stream",
     "text": [
      "Epoch: 8/100 | Train Loss: 0.4374 | Val Loss: 0.4317\n"
     ]
    },
    {
     "name": "stderr",
     "output_type": "stream",
     "text": [
      "                                                                            \r"
     ]
    },
    {
     "name": "stdout",
     "output_type": "stream",
     "text": [
      "Epoch: 9/100 | Train Loss: 0.4359 | Val Loss: 0.4301\n"
     ]
    },
    {
     "name": "stderr",
     "output_type": "stream",
     "text": [
      "                                                                             \r"
     ]
    },
    {
     "name": "stdout",
     "output_type": "stream",
     "text": [
      "Epoch: 10/100 | Train Loss: 0.4347 | Val Loss: 0.4291\n"
     ]
    },
    {
     "name": "stderr",
     "output_type": "stream",
     "text": [
      "                                                                             \r"
     ]
    },
    {
     "name": "stdout",
     "output_type": "stream",
     "text": [
      "Epoch: 11/100 | Train Loss: 0.4331 | Val Loss: 0.4307\n",
      "Early Stopping: 1/10\n"
     ]
    },
    {
     "name": "stderr",
     "output_type": "stream",
     "text": [
      "                                                                             \r"
     ]
    },
    {
     "name": "stdout",
     "output_type": "stream",
     "text": [
      "Epoch: 12/100 | Train Loss: 0.4321 | Val Loss: 0.4321\n",
      "Early Stopping: 2/10\n"
     ]
    },
    {
     "name": "stderr",
     "output_type": "stream",
     "text": [
      "                                                                             \r"
     ]
    },
    {
     "name": "stdout",
     "output_type": "stream",
     "text": [
      "Epoch: 13/100 | Train Loss: 0.4312 | Val Loss: 0.4277\n"
     ]
    },
    {
     "name": "stderr",
     "output_type": "stream",
     "text": [
      "                                                                             \r"
     ]
    },
    {
     "name": "stdout",
     "output_type": "stream",
     "text": [
      "Epoch: 14/100 | Train Loss: 0.4301 | Val Loss: 0.4258\n"
     ]
    },
    {
     "name": "stderr",
     "output_type": "stream",
     "text": [
      "                                                                             \r"
     ]
    },
    {
     "name": "stdout",
     "output_type": "stream",
     "text": [
      "Epoch: 15/100 | Train Loss: 0.4294 | Val Loss: 0.4243\n"
     ]
    },
    {
     "name": "stderr",
     "output_type": "stream",
     "text": [
      "                                                                             \r"
     ]
    },
    {
     "name": "stdout",
     "output_type": "stream",
     "text": [
      "Epoch: 16/100 | Train Loss: 0.4286 | Val Loss: 0.4225\n"
     ]
    },
    {
     "name": "stderr",
     "output_type": "stream",
     "text": [
      "                                                                             \r"
     ]
    },
    {
     "name": "stdout",
     "output_type": "stream",
     "text": [
      "Epoch: 17/100 | Train Loss: 0.4278 | Val Loss: 0.4246\n",
      "Early Stopping: 1/10\n"
     ]
    },
    {
     "name": "stderr",
     "output_type": "stream",
     "text": [
      "                                                                             \r"
     ]
    },
    {
     "name": "stdout",
     "output_type": "stream",
     "text": [
      "Epoch: 18/100 | Train Loss: 0.4270 | Val Loss: 0.4205\n"
     ]
    },
    {
     "name": "stderr",
     "output_type": "stream",
     "text": [
      "                                                                             \r"
     ]
    },
    {
     "name": "stdout",
     "output_type": "stream",
     "text": [
      "Epoch: 19/100 | Train Loss: 0.4264 | Val Loss: 0.4213\n",
      "Early Stopping: 1/10\n"
     ]
    },
    {
     "name": "stderr",
     "output_type": "stream",
     "text": [
      "                                                                             \r"
     ]
    },
    {
     "name": "stdout",
     "output_type": "stream",
     "text": [
      "Epoch: 20/100 | Train Loss: 0.4250 | Val Loss: 0.4189\n"
     ]
    },
    {
     "name": "stderr",
     "output_type": "stream",
     "text": [
      "                                                                             \r"
     ]
    },
    {
     "name": "stdout",
     "output_type": "stream",
     "text": [
      "Epoch: 21/100 | Train Loss: 0.4248 | Val Loss: 0.4192\n",
      "Early Stopping: 1/10\n"
     ]
    },
    {
     "name": "stderr",
     "output_type": "stream",
     "text": [
      "                                                                             \r"
     ]
    },
    {
     "name": "stdout",
     "output_type": "stream",
     "text": [
      "Epoch: 22/100 | Train Loss: 0.4245 | Val Loss: 0.4190\n",
      "Early Stopping: 2/10\n"
     ]
    },
    {
     "name": "stderr",
     "output_type": "stream",
     "text": [
      "                                                                             \r"
     ]
    },
    {
     "name": "stdout",
     "output_type": "stream",
     "text": [
      "Epoch: 23/100 | Train Loss: 0.4235 | Val Loss: 0.4201\n",
      "Early Stopping: 3/10\n"
     ]
    },
    {
     "name": "stderr",
     "output_type": "stream",
     "text": [
      "                                                                             \r"
     ]
    },
    {
     "name": "stdout",
     "output_type": "stream",
     "text": [
      "Epoch: 24/100 | Train Loss: 0.4228 | Val Loss: 0.4193\n",
      "Early Stopping: 4/10\n"
     ]
    },
    {
     "name": "stderr",
     "output_type": "stream",
     "text": [
      "                                                                             \r"
     ]
    },
    {
     "name": "stdout",
     "output_type": "stream",
     "text": [
      "Epoch: 25/100 | Train Loss: 0.4220 | Val Loss: 0.4186\n"
     ]
    },
    {
     "name": "stderr",
     "output_type": "stream",
     "text": [
      "                                                                             \r"
     ]
    },
    {
     "name": "stdout",
     "output_type": "stream",
     "text": [
      "Epoch: 26/100 | Train Loss: 0.4215 | Val Loss: 0.4188\n",
      "Early Stopping: 1/10\n"
     ]
    },
    {
     "name": "stderr",
     "output_type": "stream",
     "text": [
      "                                                                             \r"
     ]
    },
    {
     "name": "stdout",
     "output_type": "stream",
     "text": [
      "Epoch: 27/100 | Train Loss: 0.4212 | Val Loss: 0.4189\n",
      "Early Stopping: 2/10\n"
     ]
    },
    {
     "name": "stderr",
     "output_type": "stream",
     "text": [
      "                                                                             \r"
     ]
    },
    {
     "name": "stdout",
     "output_type": "stream",
     "text": [
      "Epoch: 28/100 | Train Loss: 0.4206 | Val Loss: 0.4143\n"
     ]
    },
    {
     "name": "stderr",
     "output_type": "stream",
     "text": [
      "                                                                             \r"
     ]
    },
    {
     "name": "stdout",
     "output_type": "stream",
     "text": [
      "Epoch: 29/100 | Train Loss: 0.4202 | Val Loss: 0.4172\n",
      "Early Stopping: 1/10\n"
     ]
    },
    {
     "name": "stderr",
     "output_type": "stream",
     "text": [
      "                                                                             \r"
     ]
    },
    {
     "name": "stdout",
     "output_type": "stream",
     "text": [
      "Epoch: 30/100 | Train Loss: 0.4199 | Val Loss: 0.4141\n"
     ]
    },
    {
     "name": "stderr",
     "output_type": "stream",
     "text": [
      "                                                                             \r"
     ]
    },
    {
     "name": "stdout",
     "output_type": "stream",
     "text": [
      "Epoch: 31/100 | Train Loss: 0.4190 | Val Loss: 0.4150\n",
      "Early Stopping: 1/10\n"
     ]
    },
    {
     "name": "stderr",
     "output_type": "stream",
     "text": [
      "                                                                             \r"
     ]
    },
    {
     "name": "stdout",
     "output_type": "stream",
     "text": [
      "Epoch: 32/100 | Train Loss: 0.4186 | Val Loss: 0.4146\n",
      "Early Stopping: 2/10\n"
     ]
    },
    {
     "name": "stderr",
     "output_type": "stream",
     "text": [
      "                                                                             \r"
     ]
    },
    {
     "name": "stdout",
     "output_type": "stream",
     "text": [
      "Epoch: 33/100 | Train Loss: 0.4188 | Val Loss: 0.4173\n",
      "Early Stopping: 3/10\n"
     ]
    },
    {
     "name": "stderr",
     "output_type": "stream",
     "text": [
      "                                                                             \r"
     ]
    },
    {
     "name": "stdout",
     "output_type": "stream",
     "text": [
      "Epoch: 34/100 | Train Loss: 0.4173 | Val Loss: 0.4168\n",
      "Early Stopping: 4/10\n"
     ]
    },
    {
     "name": "stderr",
     "output_type": "stream",
     "text": [
      "                                                                             \r"
     ]
    },
    {
     "name": "stdout",
     "output_type": "stream",
     "text": [
      "Epoch: 35/100 | Train Loss: 0.4169 | Val Loss: 0.4150\n",
      "Early Stopping: 5/10\n"
     ]
    },
    {
     "name": "stderr",
     "output_type": "stream",
     "text": [
      "                                                                             \r"
     ]
    },
    {
     "name": "stdout",
     "output_type": "stream",
     "text": [
      "Epoch: 36/100 | Train Loss: 0.4168 | Val Loss: 0.4139\n"
     ]
    },
    {
     "name": "stderr",
     "output_type": "stream",
     "text": [
      "                                                                             \r"
     ]
    },
    {
     "name": "stdout",
     "output_type": "stream",
     "text": [
      "Epoch: 37/100 | Train Loss: 0.4169 | Val Loss: 0.4119\n"
     ]
    },
    {
     "name": "stderr",
     "output_type": "stream",
     "text": [
      "                                                                             \r"
     ]
    },
    {
     "name": "stdout",
     "output_type": "stream",
     "text": [
      "Epoch: 38/100 | Train Loss: 0.4171 | Val Loss: 0.4133\n",
      "Early Stopping: 1/10\n"
     ]
    },
    {
     "name": "stderr",
     "output_type": "stream",
     "text": [
      "                                                                             \r"
     ]
    },
    {
     "name": "stdout",
     "output_type": "stream",
     "text": [
      "Epoch: 39/100 | Train Loss: 0.4162 | Val Loss: 0.4131\n",
      "Early Stopping: 2/10\n"
     ]
    },
    {
     "name": "stderr",
     "output_type": "stream",
     "text": [
      "                                                                             \r"
     ]
    },
    {
     "name": "stdout",
     "output_type": "stream",
     "text": [
      "Epoch: 40/100 | Train Loss: 0.4163 | Val Loss: 0.4132\n",
      "Early Stopping: 3/10\n"
     ]
    },
    {
     "name": "stderr",
     "output_type": "stream",
     "text": [
      "                                                                             \r"
     ]
    },
    {
     "name": "stdout",
     "output_type": "stream",
     "text": [
      "Epoch: 41/100 | Train Loss: 0.4158 | Val Loss: 0.4128\n",
      "Early Stopping: 4/10\n"
     ]
    },
    {
     "name": "stderr",
     "output_type": "stream",
     "text": [
      "                                                                             \r"
     ]
    },
    {
     "name": "stdout",
     "output_type": "stream",
     "text": [
      "Epoch: 42/100 | Train Loss: 0.4155 | Val Loss: 0.4133\n",
      "Early Stopping: 5/10\n"
     ]
    },
    {
     "name": "stderr",
     "output_type": "stream",
     "text": [
      "                                                                             \r"
     ]
    },
    {
     "name": "stdout",
     "output_type": "stream",
     "text": [
      "Epoch: 43/100 | Train Loss: 0.4148 | Val Loss: 0.4163\n",
      "Early Stopping: 6/10\n"
     ]
    },
    {
     "name": "stderr",
     "output_type": "stream",
     "text": [
      "                                                                             \r"
     ]
    },
    {
     "name": "stdout",
     "output_type": "stream",
     "text": [
      "Epoch: 44/100 | Train Loss: 0.4149 | Val Loss: 0.4115\n"
     ]
    },
    {
     "name": "stderr",
     "output_type": "stream",
     "text": [
      "                                                                             \r"
     ]
    },
    {
     "name": "stdout",
     "output_type": "stream",
     "text": [
      "Epoch: 45/100 | Train Loss: 0.4149 | Val Loss: 0.4135\n",
      "Early Stopping: 1/10\n"
     ]
    },
    {
     "name": "stderr",
     "output_type": "stream",
     "text": [
      "                                                                             \r"
     ]
    },
    {
     "name": "stdout",
     "output_type": "stream",
     "text": [
      "Epoch: 46/100 | Train Loss: 0.4139 | Val Loss: 0.4096\n"
     ]
    },
    {
     "name": "stderr",
     "output_type": "stream",
     "text": [
      "                                                                             \r"
     ]
    },
    {
     "name": "stdout",
     "output_type": "stream",
     "text": [
      "Epoch: 47/100 | Train Loss: 0.4136 | Val Loss: 0.4107\n",
      "Early Stopping: 1/10\n"
     ]
    },
    {
     "name": "stderr",
     "output_type": "stream",
     "text": [
      "                                                                             \r"
     ]
    },
    {
     "name": "stdout",
     "output_type": "stream",
     "text": [
      "Epoch: 48/100 | Train Loss: 0.4142 | Val Loss: 0.4116\n",
      "Early Stopping: 2/10\n"
     ]
    },
    {
     "name": "stderr",
     "output_type": "stream",
     "text": [
      "                                                                             \r"
     ]
    },
    {
     "name": "stdout",
     "output_type": "stream",
     "text": [
      "Epoch: 49/100 | Train Loss: 0.4129 | Val Loss: 0.4127\n",
      "Early Stopping: 3/10\n"
     ]
    },
    {
     "name": "stderr",
     "output_type": "stream",
     "text": [
      "                                                                             \r"
     ]
    },
    {
     "name": "stdout",
     "output_type": "stream",
     "text": [
      "Epoch: 50/100 | Train Loss: 0.4127 | Val Loss: 0.4128\n",
      "Early Stopping: 4/10\n"
     ]
    },
    {
     "name": "stderr",
     "output_type": "stream",
     "text": [
      "                                                                             \r"
     ]
    },
    {
     "name": "stdout",
     "output_type": "stream",
     "text": [
      "Epoch: 51/100 | Train Loss: 0.4132 | Val Loss: 0.4088\n"
     ]
    },
    {
     "name": "stderr",
     "output_type": "stream",
     "text": [
      "                                                                             \r"
     ]
    },
    {
     "name": "stdout",
     "output_type": "stream",
     "text": [
      "Epoch: 52/100 | Train Loss: 0.4125 | Val Loss: 0.4078\n"
     ]
    },
    {
     "name": "stderr",
     "output_type": "stream",
     "text": [
      "                                                                             \r"
     ]
    },
    {
     "name": "stdout",
     "output_type": "stream",
     "text": [
      "Epoch: 53/100 | Train Loss: 0.4120 | Val Loss: 0.4125\n",
      "Early Stopping: 1/10\n"
     ]
    },
    {
     "name": "stderr",
     "output_type": "stream",
     "text": [
      "                                                                             \r"
     ]
    },
    {
     "name": "stdout",
     "output_type": "stream",
     "text": [
      "Epoch: 54/100 | Train Loss: 0.4125 | Val Loss: 0.4117\n",
      "Early Stopping: 2/10\n"
     ]
    },
    {
     "name": "stderr",
     "output_type": "stream",
     "text": [
      "                                                                             \r"
     ]
    },
    {
     "name": "stdout",
     "output_type": "stream",
     "text": [
      "Epoch: 55/100 | Train Loss: 0.4119 | Val Loss: 0.4095\n",
      "Early Stopping: 3/10\n"
     ]
    },
    {
     "name": "stderr",
     "output_type": "stream",
     "text": [
      "                                                                             \r"
     ]
    },
    {
     "name": "stdout",
     "output_type": "stream",
     "text": [
      "Epoch: 56/100 | Train Loss: 0.4120 | Val Loss: 0.4093\n",
      "Early Stopping: 4/10\n"
     ]
    },
    {
     "name": "stderr",
     "output_type": "stream",
     "text": [
      "                                                                             \r"
     ]
    },
    {
     "name": "stdout",
     "output_type": "stream",
     "text": [
      "Epoch: 57/100 | Train Loss: 0.4119 | Val Loss: 0.4121\n",
      "Early Stopping: 5/10\n"
     ]
    },
    {
     "name": "stderr",
     "output_type": "stream",
     "text": [
      "                                                                             \r"
     ]
    },
    {
     "name": "stdout",
     "output_type": "stream",
     "text": [
      "Epoch: 58/100 | Train Loss: 0.4110 | Val Loss: 0.4074\n"
     ]
    },
    {
     "name": "stderr",
     "output_type": "stream",
     "text": [
      "                                                                             \r"
     ]
    },
    {
     "name": "stdout",
     "output_type": "stream",
     "text": [
      "Epoch: 59/100 | Train Loss: 0.4108 | Val Loss: 0.4103\n",
      "Early Stopping: 1/10\n"
     ]
    },
    {
     "name": "stderr",
     "output_type": "stream",
     "text": [
      "                                                                             \r"
     ]
    },
    {
     "name": "stdout",
     "output_type": "stream",
     "text": [
      "Epoch: 60/100 | Train Loss: 0.4105 | Val Loss: 0.4090\n",
      "Early Stopping: 2/10\n"
     ]
    },
    {
     "name": "stderr",
     "output_type": "stream",
     "text": [
      "                                                                             \r"
     ]
    },
    {
     "name": "stdout",
     "output_type": "stream",
     "text": [
      "Epoch: 61/100 | Train Loss: 0.4103 | Val Loss: 0.4111\n",
      "Early Stopping: 3/10\n"
     ]
    },
    {
     "name": "stderr",
     "output_type": "stream",
     "text": [
      "                                                                             \r"
     ]
    },
    {
     "name": "stdout",
     "output_type": "stream",
     "text": [
      "Epoch: 62/100 | Train Loss: 0.4103 | Val Loss: 0.4082\n",
      "Early Stopping: 4/10\n"
     ]
    },
    {
     "name": "stderr",
     "output_type": "stream",
     "text": [
      "                                                                             \r"
     ]
    },
    {
     "name": "stdout",
     "output_type": "stream",
     "text": [
      "Epoch: 63/100 | Train Loss: 0.4101 | Val Loss: 0.4079\n",
      "Early Stopping: 5/10\n"
     ]
    },
    {
     "name": "stderr",
     "output_type": "stream",
     "text": [
      "                                                                             \r"
     ]
    },
    {
     "name": "stdout",
     "output_type": "stream",
     "text": [
      "Epoch: 64/100 | Train Loss: 0.4104 | Val Loss: 0.4070\n"
     ]
    },
    {
     "name": "stderr",
     "output_type": "stream",
     "text": [
      "                                                                             \r"
     ]
    },
    {
     "name": "stdout",
     "output_type": "stream",
     "text": [
      "Epoch: 65/100 | Train Loss: 0.4093 | Val Loss: 0.4076\n",
      "Early Stopping: 1/10\n"
     ]
    },
    {
     "name": "stderr",
     "output_type": "stream",
     "text": [
      "                                                                             \r"
     ]
    },
    {
     "name": "stdout",
     "output_type": "stream",
     "text": [
      "Epoch: 66/100 | Train Loss: 0.4098 | Val Loss: 0.4125\n",
      "Early Stopping: 2/10\n"
     ]
    },
    {
     "name": "stderr",
     "output_type": "stream",
     "text": [
      "                                                                             \r"
     ]
    },
    {
     "name": "stdout",
     "output_type": "stream",
     "text": [
      "Epoch: 67/100 | Train Loss: 0.4092 | Val Loss: 0.4084\n",
      "Early Stopping: 3/10\n"
     ]
    },
    {
     "name": "stderr",
     "output_type": "stream",
     "text": [
      "                                                                             \r"
     ]
    },
    {
     "name": "stdout",
     "output_type": "stream",
     "text": [
      "Epoch: 68/100 | Train Loss: 0.4094 | Val Loss: 0.4070\n",
      "Early Stopping: 4/10\n"
     ]
    },
    {
     "name": "stderr",
     "output_type": "stream",
     "text": [
      "                                                                             \r"
     ]
    },
    {
     "name": "stdout",
     "output_type": "stream",
     "text": [
      "Epoch: 69/100 | Train Loss: 0.4086 | Val Loss: 0.4110\n",
      "Early Stopping: 5/10\n"
     ]
    },
    {
     "name": "stderr",
     "output_type": "stream",
     "text": [
      "                                                                             \r"
     ]
    },
    {
     "name": "stdout",
     "output_type": "stream",
     "text": [
      "Epoch: 70/100 | Train Loss: 0.4083 | Val Loss: 0.4058\n"
     ]
    },
    {
     "name": "stderr",
     "output_type": "stream",
     "text": [
      "                                                                             \r"
     ]
    },
    {
     "name": "stdout",
     "output_type": "stream",
     "text": [
      "Epoch: 71/100 | Train Loss: 0.4084 | Val Loss: 0.4093\n",
      "Early Stopping: 1/10\n"
     ]
    },
    {
     "name": "stderr",
     "output_type": "stream",
     "text": [
      "                                                                             \r"
     ]
    },
    {
     "name": "stdout",
     "output_type": "stream",
     "text": [
      "Epoch: 72/100 | Train Loss: 0.4089 | Val Loss: 0.4075\n",
      "Early Stopping: 2/10\n"
     ]
    },
    {
     "name": "stderr",
     "output_type": "stream",
     "text": [
      "                                                                             \r"
     ]
    },
    {
     "name": "stdout",
     "output_type": "stream",
     "text": [
      "Epoch: 73/100 | Train Loss: 0.4081 | Val Loss: 0.4089\n",
      "Early Stopping: 3/10\n"
     ]
    },
    {
     "name": "stderr",
     "output_type": "stream",
     "text": [
      "                                                                             \r"
     ]
    },
    {
     "name": "stdout",
     "output_type": "stream",
     "text": [
      "Epoch: 74/100 | Train Loss: 0.4078 | Val Loss: 0.4103\n",
      "Early Stopping: 4/10\n"
     ]
    },
    {
     "name": "stderr",
     "output_type": "stream",
     "text": [
      "                                                                             \r"
     ]
    },
    {
     "name": "stdout",
     "output_type": "stream",
     "text": [
      "Epoch: 75/100 | Train Loss: 0.4080 | Val Loss: 0.4042\n"
     ]
    },
    {
     "name": "stderr",
     "output_type": "stream",
     "text": [
      "                                                                             \r"
     ]
    },
    {
     "name": "stdout",
     "output_type": "stream",
     "text": [
      "Epoch: 76/100 | Train Loss: 0.4080 | Val Loss: 0.4051\n",
      "Early Stopping: 1/10\n"
     ]
    },
    {
     "name": "stderr",
     "output_type": "stream",
     "text": [
      "                                                                             \r"
     ]
    },
    {
     "name": "stdout",
     "output_type": "stream",
     "text": [
      "Epoch: 77/100 | Train Loss: 0.4076 | Val Loss: 0.4126\n",
      "Early Stopping: 2/10\n"
     ]
    },
    {
     "name": "stderr",
     "output_type": "stream",
     "text": [
      "                                                                             \r"
     ]
    },
    {
     "name": "stdout",
     "output_type": "stream",
     "text": [
      "Epoch: 78/100 | Train Loss: 0.4078 | Val Loss: 0.4062\n",
      "Early Stopping: 3/10\n"
     ]
    },
    {
     "name": "stderr",
     "output_type": "stream",
     "text": [
      "                                                                             \r"
     ]
    },
    {
     "name": "stdout",
     "output_type": "stream",
     "text": [
      "Epoch: 79/100 | Train Loss: 0.4069 | Val Loss: 0.4077\n",
      "Early Stopping: 4/10\n"
     ]
    },
    {
     "name": "stderr",
     "output_type": "stream",
     "text": [
      "                                                                             \r"
     ]
    },
    {
     "name": "stdout",
     "output_type": "stream",
     "text": [
      "Epoch: 80/100 | Train Loss: 0.4066 | Val Loss: 0.4052\n",
      "Early Stopping: 5/10\n"
     ]
    },
    {
     "name": "stderr",
     "output_type": "stream",
     "text": [
      "                                                                             \r"
     ]
    },
    {
     "name": "stdout",
     "output_type": "stream",
     "text": [
      "Epoch: 81/100 | Train Loss: 0.4068 | Val Loss: 0.4052\n",
      "Early Stopping: 6/10\n"
     ]
    },
    {
     "name": "stderr",
     "output_type": "stream",
     "text": [
      "                                                                             \r"
     ]
    },
    {
     "name": "stdout",
     "output_type": "stream",
     "text": [
      "Epoch: 82/100 | Train Loss: 0.4069 | Val Loss: 0.4074\n",
      "Early Stopping: 7/10\n"
     ]
    },
    {
     "name": "stderr",
     "output_type": "stream",
     "text": [
      "                                                                             \r"
     ]
    },
    {
     "name": "stdout",
     "output_type": "stream",
     "text": [
      "Epoch: 83/100 | Train Loss: 0.4070 | Val Loss: 0.4044\n",
      "Early Stopping: 8/10\n"
     ]
    },
    {
     "name": "stderr",
     "output_type": "stream",
     "text": [
      "                                                                             \r"
     ]
    },
    {
     "name": "stdout",
     "output_type": "stream",
     "text": [
      "Epoch: 84/100 | Train Loss: 0.4073 | Val Loss: 0.4061\n",
      "Early Stopping: 9/10\n"
     ]
    },
    {
     "name": "stderr",
     "output_type": "stream",
     "text": [
      "                                                                             "
     ]
    },
    {
     "name": "stdout",
     "output_type": "stream",
     "text": [
      "Epoch: 85/100 | Train Loss: 0.4066 | Val Loss: 0.4043\n",
      "Early Stopping: 10/10\n",
      "Early Stopping!\n"
     ]
    },
    {
     "name": "stderr",
     "output_type": "stream",
     "text": [
      "\r"
     ]
    }
   ],
   "source": [
    "for epoch in range(epochs):\n",
    "    # Training phase\n",
    "    model.train()\n",
    "    running_train_loss = 0.0\n",
    "    for X_batch, y_batch in tqdm(train_loader, desc=f\"Epoch {epoch+1}/{epochs} [Training]\", leave=False):\n",
    "        X_batch = X_batch.to(device)\n",
    "        y_batch = y_batch.to(device)\n",
    "        \n",
    "        optimizer.zero_grad()  # Clear gradients\n",
    "        outputs = model(X_batch)  # Forward pass\n",
    "        loss = criterion(outputs, y_batch)  # Compute loss\n",
    "        loss.backward()  # Backpropagation\n",
    "        optimizer.step()  # Update model parameters\n",
    "        \n",
    "        running_train_loss += loss.item() * X_batch.size(0)\n",
    "    \n",
    "    # Compute average training loss for the epoch\n",
    "    epoch_train_loss = running_train_loss / len(train_loader.dataset)\n",
    "    train_losses.append(epoch_train_loss)\n",
    "    \n",
    "    # Validation phase\n",
    "    model.eval()\n",
    "    running_val_loss = 0.0\n",
    "    with torch.no_grad():\n",
    "        for X_val, y_val in tqdm(val_loader, desc=f\"Epoch {epoch+1}/{epochs} [Validation]\", leave=False):\n",
    "            X_val = X_val.to(device)\n",
    "            y_val = y_val.to(device)\n",
    "            outputs = model(X_val)\n",
    "            loss = criterion(outputs, y_val)\n",
    "            running_val_loss += loss.item() * X_val.size(0)\n",
    "    epoch_val_loss = running_val_loss / len(val_loader.dataset)\n",
    "    val_losses.append(epoch_val_loss)\n",
    "    \n",
    "    print(f\"Epoch: {epoch+1}/{epochs} | Train Loss: {epoch_train_loss:.4f} | Val Loss: {epoch_val_loss:.4f}\")\n",
    "    \n",
    "    # Check for improvement; save the best model and update early stopping counter.\n",
    "    if epoch_val_loss < best_val_loss:\n",
    "        best_val_loss = epoch_val_loss\n",
    "        epochs_no_improve = 0\n",
    "        torch.save(model.state_dict(), './.export/checkpoint-aug-tcn.pt')\n",
    "    else:\n",
    "        epochs_no_improve += 1\n",
    "        print(f\"Early Stopping: {epochs_no_improve}/{patience}\")\n",
    "        \n",
    "    if epochs_no_improve >= patience:\n",
    "        print(\"Early Stopping!\")\n",
    "        break"
   ]
  },
  {
   "cell_type": "code",
   "execution_count": null,
   "metadata": {},
   "outputs": [
    {
     "data": {
      "image/png": "[encoded data removed]",
      "text/plain": [
       "<Figure size 1500x1000 with 1 Axes>"
      ]
     },
     "metadata": {},
     "output_type": "display_data"
    }
   ],
   "source": [
    "plt.figure(figsize=(15, 10))\n",
    "plt.plot(train_losses, label=\"Train Loss\")\n",
    "plt.plot(val_losses, label=\"Validation Loss\")\n",
    "plt.xlabel(\"Epoch\")\n",
    "plt.ylabel(\"Loss\")\n",
    "plt.title(\"Train Loss vs Validation Loss\")\n",
    "plt.legend()\n",
    "plt.show()  # Plot the loss curves to inspect training progress"
   ]
  },
  {
   "cell_type": "markdown",
   "metadata": {},
   "source": [
    "### Evaluation"
   ]
  },
  {
   "cell_type": "code",
   "execution_count": 20,
   "metadata": {},
   "outputs": [
    {
     "name": "stderr",
     "output_type": "stream",
     "text": [
      "C:\\Users\\ASUS\\AppData\\Local\\Temp\\ipykernel_14188\\336656776.py:2: FutureWarning: You are using `torch.load` with `weights_only=False` (the current default value), which uses the default pickle module implicitly. It is possible to construct malicious pickle data which will execute arbitrary code during unpickling (See https://github.com/pytorch/pytorch/blob/main/SECURITY.md#untrusted-models for more details). In a future release, the default value for `weights_only` will be flipped to `True`. This limits the functions that could be executed during unpickling. Arbitrary objects will no longer be allowed to be loaded via this mode unless they are explicitly allowlisted by the user via `torch.serialization.add_safe_globals`. We recommend you start setting `weights_only=True` for any use case where you don't have full control of the loaded file. Please open an issue on GitHub for any issues related to this experimental feature.\n",
      "  model.load_state_dict(torch.load('./.export/checkpoint-aug-tcn.pt'))\n"
     ]
    },
    {
     "data": {
      "text/plain": [
       "<All keys matched successfully>"
      ]
     },
     "execution_count": 20,
     "metadata": {},
     "output_type": "execute_result"
    }
   ],
   "source": [
    "# Load the best model saved during training\n",
    "model.load_state_dict(torch.load('./.export/checkpoint-aug-tcn.pt'))"
   ]
  },
  {
   "cell_type": "code",
   "execution_count": 21,
   "metadata": {},
   "outputs": [],
   "source": [
    "# Define several evaluation metrics for regression performance\n",
    "def rmse(pred, target):\n",
    "    return np.sqrt(np.mean((pred - target)**2))\n",
    "\n",
    "def mae(pred, target):\n",
    "    return np.mean(np.abs(pred - target))\n",
    "\n",
    "def mard(pred, target):\n",
    "    return np.mean(np.abs(pred - target) / (np.abs(target) + 1e-6))\n",
    "\n",
    "def mbe(pred, target):\n",
    "    return np.mean(pred - target)\n",
    "\n",
    "def mape(pred, target):\n",
    "    return np.mean(np.abs((target - pred) / (target + 1e-6))) * 100\n",
    "\n",
    "def pearson_r(pred, target):\n",
    "    return np.corrcoef(pred, target)[0, 1]\n",
    "\n",
    "def ccc(pred, target):\n",
    "    pred_mean = np.mean(pred)\n",
    "    target_mean = np.mean(target)\n",
    "    pred_var = np.var(pred)\n",
    "    target_var = np.var(target)\n",
    "    covariance = np.mean((pred - pred_mean) * (target - target_mean))\n",
    "    return (2 * covariance) / (pred_var + target_var + (pred_mean - target_mean)**2 + 1e-6)"
   ]
  },
  {
   "cell_type": "code",
   "execution_count": 22,
   "metadata": {},
   "outputs": [
    {
     "name": "stderr",
     "output_type": "stream",
     "text": [
      "Evaluation: 100%|██████████| 277/277 [00:00<00:00, 299.51it/s]\n"
     ]
    }
   ],
   "source": [
    "model.eval()\n",
    "preds = []\n",
    "preds_targets = []\n",
    "\n",
    "# Generate predictions on the test set\n",
    "with torch.no_grad():\n",
    "    for x_seq, targets in tqdm(test_loader, desc=\"Evaluation\"):\n",
    "        x_seq = x_seq.to(device)\n",
    "        targets = targets.to(device)\n",
    "        outputs = model(x_seq)\n",
    "        preds.append(outputs.cpu().numpy())\n",
    "        preds_targets.append(targets.cpu().numpy())\n",
    "        \n",
    "preds = np.concatenate(preds)\n",
    "preds_targets = np.concatenate(preds_targets)"
   ]
  },
  {
   "cell_type": "code",
   "execution_count": 23,
   "metadata": {},
   "outputs": [],
   "source": [
    "# Load the target scaler to inverse transform scaled predictions and targets to original units\n",
    "target_scaler = joblib.load('./.data/target_scaler_aug.pkl')\n",
    "all_preds = target_scaler.inverse_transform(preds.reshape(-1, 1)).flatten()\n",
    "all_targets = target_scaler.inverse_transform(preds_targets.reshape(-1, 1)).flatten()"
   ]
  },
  {
   "cell_type": "code",
   "execution_count": 24,
   "metadata": {},
   "outputs": [],
   "source": [
    "# Calibrate predictions using a simple Linear Regression model.\n",
    "calibration_model = LinearRegression()\n",
    "calibration_model.fit(all_preds.reshape(-1, 1), all_targets)\n",
    "calibrated_val_preds = calibration_model.predict(all_preds.reshape(-1, 1))\n",
    "\n",
    "all_preds = calibrated_val_preds"
   ]
  },
  {
   "cell_type": "code",
   "execution_count": 25,
   "metadata": {},
   "outputs": [],
   "source": [
    "residuals = all_preds - all_targets  # Compute residual errors"
   ]
  },
  {
   "cell_type": "code",
   "execution_count": 26,
   "metadata": {},
   "outputs": [
    {
     "data": {
      "image/png": "[encoded data removed]",
      "text/plain": [
       "<Figure size 1500x1000 with 1 Axes>"
      ]
     },
     "metadata": {},
     "output_type": "display_data"
    }
   ],
   "source": [
    "plt.figure(figsize=(15, 10))\n",
    "plt.scatter(all_targets, all_preds, alpha=0.4)\n",
    "plt.plot([all_targets.min(), all_targets.max()], [all_targets.min(), all_targets.max()], 'r--')\n",
    "plt.xlabel(\"Actual\")\n",
    "plt.ylabel(\"Predicted\")\n",
    "plt.title(\"Actual Glucose vs Predicted Glucose\")\n",
    "plt.grid(True)\n",
    "plt.show()  # Scatter plot of actual vs predicted values"
   ]
  },
  {
   "cell_type": "code",
   "execution_count": 27,
   "metadata": {},
   "outputs": [
    {
     "data": {
      "image/png": "[encoded data removed]",
      "text/plain": [
       "<Figure size 1500x1000 with 1 Axes>"
      ]
     },
     "metadata": {},
     "output_type": "display_data"
    }
   ],
   "source": [
    "plt.figure(figsize=(15, 10))\n",
    "plt.hist(residuals, bins=50)\n",
    "plt.title(\"Residual\")\n",
    "plt.xlabel(\"Error\")\n",
    "plt.ylabel(\"Frequency\")\n",
    "plt.grid(True)\n",
    "plt.show()  # Histogram showing the distribution of residuals"
   ]
  },
  {
   "cell_type": "code",
   "execution_count": 28,
   "metadata": {},
   "outputs": [],
   "source": [
    "from sklearn.metrics import r2_score\n",
    "test_r2 = r2_score(all_targets, all_preds)"
   ]
  },
  {
   "cell_type": "code",
   "execution_count": 29,
   "metadata": {},
   "outputs": [],
   "source": [
    "from sklearn.metrics import explained_variance_score\n",
    "test_expl_var = explained_variance_score(all_targets, all_preds)"
   ]
  },
  {
   "cell_type": "code",
   "execution_count": 30,
   "metadata": {},
   "outputs": [],
   "source": [
    "test_rmse = rmse(all_preds, all_targets)\n",
    "test_mae = mae(all_preds, all_targets)\n",
    "test_mard = mard(all_preds, all_targets)\n",
    "\n",
    "test_mbe = mbe(all_preds, all_targets)\n",
    "test_r2 = r2_score(all_targets, all_preds)\n",
    "test_expl_var = explained_variance_score(all_targets, all_preds)\n",
    "test_mape = mape(all_preds, all_targets)\n",
    "test_ccc = ccc(all_preds, all_targets)"
   ]
  },
  {
   "cell_type": "code",
   "execution_count": 31,
   "metadata": {},
   "outputs": [
    {
     "name": "stdout",
     "output_type": "stream",
     "text": [
      "Test RMSE: 1.9100\n",
      "Test MSE: 3.6482\n",
      "Test MAE: 1.4088\n",
      "Test MARD: 0.1874\n",
      "Test MBE: -0.0000\n",
      "Test R²: 0.5891\n",
      "Test Explained Variance: 0.5891\n",
      "Test MAPE: 18.74%\n",
      "Test CCC: 0.7414\n"
     ]
    }
   ],
   "source": [
    "print(f\"Test RMSE: {test_rmse:.4f}\")\n",
    "print(f\"Test MSE: {test_rmse**2:.4f}\")\n",
    "print(f\"Test MAE: {test_mae:.4f}\")\n",
    "print(f\"Test MARD: {test_mard:.4f}\")\n",
    "print(f\"Test MBE: {test_mbe:.4f}\")\n",
    "print(f\"Test R²: {test_r2:.4f}\")\n",
    "print(f\"Test Explained Variance: {test_expl_var:.4f}\")\n",
    "print(f\"Test MAPE: {test_mape:.2f}%\")\n",
    "print(f\"Test CCC: {test_ccc:.4f}\")"
   ]
  },
  {
   "cell_type": "markdown",
   "metadata": {},
   "source": [
    "### Explanation"
   ]
  },
  {
   "cell_type": "code",
   "execution_count": 32,
   "metadata": {},
   "outputs": [
    {
     "name": "stderr",
     "output_type": "stream",
     "text": [
      "C:\\Users\\ASUS\\AppData\\Local\\Temp\\ipykernel_19692\\2402096757.py:2: FutureWarning: You are using `torch.load` with `weights_only=False` (the current default value), which uses the default pickle module implicitly. It is possible to construct malicious pickle data which will execute arbitrary code during unpickling (See https://github.com/pytorch/pytorch/blob/main/SECURITY.md#untrusted-models for more details). In a future release, the default value for `weights_only` will be flipped to `True`. This limits the functions that could be executed during unpickling. Arbitrary objects will no longer be allowed to be loaded via this mode unless they are explicitly allowlisted by the user via `torch.serialization.add_safe_globals`. We recommend you start setting `weights_only=True` for any use case where you don't have full control of the loaded file. Please open an issue on GitHub for any issues related to this experimental feature.\n",
      "  model.load_state_dict(torch.load('./.export/checkpoint-aug-tcn.pt'))\n"
     ]
    },
    {
     "data": {
      "text/plain": [
       "BrisT1DTCN(\n",
       "  (network): Sequential(\n",
       "    (0): BrisT1DTemporalBlock(\n",
       "      (conv1): Conv1d(6, 64, kernel_size=(2,), stride=(1,), padding=(1,))\n",
       "      (chomp1): BrisT1DChomp1d()\n",
       "      (relu1): ReLU()\n",
       "      (dropout1): Dropout(p=0.25, inplace=False)\n",
       "      (conv2): Conv1d(64, 64, kernel_size=(2,), stride=(1,), padding=(1,))\n",
       "      (chomp2): BrisT1DChomp1d()\n",
       "      (relu2): ReLU()\n",
       "      (dropout2): Dropout(p=0.25, inplace=False)\n",
       "      (net): Sequential(\n",
       "        (0): Conv1d(6, 64, kernel_size=(2,), stride=(1,), padding=(1,))\n",
       "        (1): BrisT1DChomp1d()\n",
       "        (2): ReLU()\n",
       "        (3): Dropout(p=0.25, inplace=False)\n",
       "        (4): Conv1d(64, 64, kernel_size=(2,), stride=(1,), padding=(1,))\n",
       "        (5): BrisT1DChomp1d()\n",
       "        (6): ReLU()\n",
       "        (7): Dropout(p=0.25, inplace=False)\n",
       "      )\n",
       "      (downsample): Conv1d(6, 64, kernel_size=(1,), stride=(1,))\n",
       "      (relu): ReLU()\n",
       "    )\n",
       "    (1): BrisT1DTemporalBlock(\n",
       "      (conv1): Conv1d(64, 32, kernel_size=(2,), stride=(1,), padding=(2,), dilation=(2,))\n",
       "      (chomp1): BrisT1DChomp1d()\n",
       "      (relu1): ReLU()\n",
       "      (dropout1): Dropout(p=0.25, inplace=False)\n",
       "      (conv2): Conv1d(32, 32, kernel_size=(2,), stride=(1,), padding=(2,), dilation=(2,))\n",
       "      (chomp2): BrisT1DChomp1d()\n",
       "      (relu2): ReLU()\n",
       "      (dropout2): Dropout(p=0.25, inplace=False)\n",
       "      (net): Sequential(\n",
       "        (0): Conv1d(64, 32, kernel_size=(2,), stride=(1,), padding=(2,), dilation=(2,))\n",
       "        (1): BrisT1DChomp1d()\n",
       "        (2): ReLU()\n",
       "        (3): Dropout(p=0.25, inplace=False)\n",
       "        (4): Conv1d(32, 32, kernel_size=(2,), stride=(1,), padding=(2,), dilation=(2,))\n",
       "        (5): BrisT1DChomp1d()\n",
       "        (6): ReLU()\n",
       "        (7): Dropout(p=0.25, inplace=False)\n",
       "      )\n",
       "      (downsample): Conv1d(64, 32, kernel_size=(1,), stride=(1,))\n",
       "      (relu): ReLU()\n",
       "    )\n",
       "  )\n",
       "  (fc): Linear(in_features=32, out_features=1, bias=True)\n",
       ")"
      ]
     },
     "execution_count": 32,
     "metadata": {},
     "output_type": "execute_result"
    }
   ],
   "source": [
    "# Reload the best model checkpoint for explanation analysis\n",
    "model.load_state_dict(torch.load('./.export/checkpoint-aug-tcn.pt'))\n",
    "model.eval()"
   ]
  },
  {
   "cell_type": "code",
   "execution_count": 33,
   "metadata": {},
   "outputs": [],
   "source": [
    "# Define human-readable names for each sensor feature.\n",
    "sensor_names = [\"bg (Blood Glucose Reading)\", \n",
    "                \"insulin (Insulin Intake)\", \n",
    "                \"carbs (Carbohydrate Intake)\", \n",
    "                \"hr (Mean Heart Rate)\", \n",
    "                \"steps (Steps Walked)\", \n",
    "                \"cals (Calories Burned)\"]"
   ]
  },
  {
   "cell_type": "code",
   "execution_count": 34,
   "metadata": {},
   "outputs": [],
   "source": [
    "def avg_ig_values(model, test_loader=test_loader, n_samples=None):\n",
    "    ig = IntegratedGradients(model)  # Initialize Integrated Gradients\n",
    "    \n",
    "    # Determine total number of samples in the test loader.\n",
    "    total_samples = sum(x.shape[0] for x, _ in test_loader)\n",
    "    if n_samples is None:\n",
    "        n_samples = total_samples // 2  # Use half the samples by default for attribution analysis\n",
    "\n",
    "    attr_accum = torch.zeros((24, 6), device=device)  # Initialize accumulation tensor for attributions\n",
    "    delta_list = []  # To store convergence deltas from IG\n",
    "    \n",
    "    sampled = 0\n",
    "    # Iterate over test batches\n",
    "    for x_batch, y_batch in test_loader:\n",
    "        x_batch = x_batch.to(device)\n",
    "        \n",
    "        for i in range(x_batch.shape[0]):\n",
    "            if sampled >= n_samples:\n",
    "                break\n",
    "            input_seq = x_batch[i:i+1]  # Process one sample at a time\n",
    "            \n",
    "            # Compute integrated gradients with a zero baseline and return convergence delta\n",
    "            attr, delta = ig.attribute(\n",
    "                input_seq,\n",
    "                baselines=torch.zeros_like(input_seq),\n",
    "                return_convergence_delta=True\n",
    "            )\n",
    "            \n",
    "            attr_accum += attr.squeeze(0)  # Accumulate attributions across samples\n",
    "            delta_list.append(delta.item())  # Record the convergence delta\n",
    "            sampled += 1\n",
    "        \n",
    "        if sampled >= n_samples:\n",
    "            break\n",
    "\n",
    "    avg_attr = attr_accum / n_samples  # Compute average attribution per time step and feature\n",
    "    avg_attr = avg_attr.detach().cpu().numpy()\n",
    "    \n",
    "    return n_samples, avg_attr, delta_list"
   ]
  },
  {
   "cell_type": "code",
   "execution_count": 35,
   "metadata": {},
   "outputs": [],
   "source": [
    "n_samples, avg_attr, delta_list = avg_ig_values(model, test_loader=test_loader)"
   ]
  },
  {
   "cell_type": "code",
   "execution_count": 36,
   "metadata": {},
   "outputs": [
    {
     "name": "stdout",
     "output_type": "stream",
     "text": [
      "Average Convergence Delta: 0.000181\n"
     ]
    }
   ],
   "source": [
    "print(f\"Average Convergence Delta: {np.mean(delta_list):.6f}\")  # Print average convergence delta to diagnose IG"
   ]
  },
  {
   "cell_type": "code",
   "execution_count": 37,
   "metadata": {},
   "outputs": [
    {
     "data": {
      "image/png": "[encoded data removed]",
      "text/plain": [
       "<Figure size 1500x1000 with 2 Axes>"
      ]
     },
     "metadata": {},
     "output_type": "display_data"
    }
   ],
   "source": [
    "plt.figure(figsize=(15, 10))\n",
    "plt.imshow(avg_attr.T, aspect='auto', cmap='bwr_r', interpolation='nearest')\n",
    "plt.colorbar(label='Average Attribution')\n",
    "plt.xlabel(\"Time Step (0 = -1:55, 23 = -0:00)\")\n",
    "plt.ylabel(\"Features\")\n",
    "plt.title(f\"Average Integrated Gradients Attribution ({n_samples} Samples)\")\n",
    "plt.xticks(range(24))\n",
    "plt.yticks(range(6), sensor_names)\n",
    "plt.grid(False)\n",
    "plt.tight_layout()\n",
    "plt.show()  # Heatmap of average attributions across time steps and features"
   ]
  },
  {
   "cell_type": "markdown",
   "metadata": {},
   "source": [
    "### Inference"
   ]
  },
  {
   "cell_type": "code",
   "execution_count": 32,
   "metadata": {},
   "outputs": [],
   "source": [
    "df_test = pd.read_csv(\"./.data/test_aug.csv\")  # Load test data for inference"
   ]
  },
  {
   "cell_type": "code",
   "execution_count": 33,
   "metadata": {},
   "outputs": [
    {
     "name": "stdout",
     "output_type": "stream",
     "text": [
      "            id   bg-1:55   bg-1:50   bg-1:45   bg-1:40   bg-1:35   bg-1:30  \\\n",
      "0     p01_8459  1.498370  1.484493  1.503679  1.531703  1.553799  1.622914   \n",
      "1     p01_8460 -0.486487 -0.648439 -0.811465 -0.926369 -1.035974 -1.140981   \n",
      "2     p01_8461 -1.101087 -1.091123 -1.083243 -1.078102 -1.066323 -1.050196   \n",
      "3     p01_8462 -1.564556 -1.609264 -1.656996 -1.624340 -1.582254 -1.534382   \n",
      "4     p01_8463 -1.443651 -1.533807 -1.626799 -1.664802 -1.693533 -1.715952   \n",
      "...        ...       ...       ...       ...       ...       ...       ...   \n",
      "3639   p24_256 -0.748448 -0.598134 -0.509490 -0.481286 -0.600973 -0.535748   \n",
      "3640   p24_257 -0.839126 -0.598134 -0.388700 -0.329553 -0.297484 -0.354179   \n",
      "3641   p24_258  0.339697  0.337539  0.305844  0.277379  0.218447  0.220792   \n",
      "3642   p24_259 -0.476411 -0.477402 -0.479292 -0.450939 -0.388531 -0.354179   \n",
      "3643   p24_260 -0.929805 -0.960330 -0.871860 -0.875791 -0.843764 -0.747580   \n",
      "\n",
      "       bg-1:25   bg-1:20   bg-1:15  ...  cals-0:45  cals-0:40  cals-0:35  \\\n",
      "0     1.700165  1.775949  1.729645  ...  -0.247523  -0.251865  -0.248967   \n",
      "1    -1.202542 -1.262447 -1.322404  ...   0.759588  -0.116549   0.405977   \n",
      "2    -1.111517 -1.171295 -1.231147  ...   1.728017   1.526771   0.444182   \n",
      "3    -1.394708 -1.252319 -1.109470  ...  -0.261338  -0.265815  -0.262611   \n",
      "4    -1.738582 -1.758718 -1.778690  ...   0.495722  -0.265815  -0.262611   \n",
      "...        ...       ...       ...  ...        ...        ...        ...   \n",
      "3639 -0.565363 -0.533232 -0.622765  ...  -0.340084  -0.356491  -0.351302   \n",
      "3640 -0.413653 -0.472464 -0.470669  ...  -0.351136  -0.356491  -0.351302   \n",
      "3641  0.223527  0.195983  0.168132  ...  -0.351136  -0.356491  -0.351302   \n",
      "3642 -0.322627 -0.259776 -0.288155  ...  -0.351136  -0.356491  -0.351302   \n",
      "3643 -0.686730 -0.594000 -0.531508  ...  -0.351136  -0.356491  -0.351302   \n",
      "\n",
      "      cals-0:30  cals-0:25  cals-0:20  cals-0:15  cals-0:10  cals-0:05  \\\n",
      "0     -0.264326  -0.254861  -0.257506  -0.261643  -0.261728  -0.241118   \n",
      "1      1.013454   1.367675   1.431673   2.345712   3.318882   2.496592   \n",
      "2      2.599471   0.806465   0.030891  -0.015424   0.179755   1.827127   \n",
      "3     -0.236304  -0.240653  -0.243299  -0.261643  -0.261728  -0.241118   \n",
      "4     -0.264326  -0.240653  -0.257506  -0.261643  -0.261728  -0.255036   \n",
      "...         ...        ...        ...        ...        ...        ...   \n",
      "3639  -0.355396  -0.347212  -0.338484  -0.189058  -0.352253  -0.345504   \n",
      "3640  -0.320369  -0.300326  -0.327119   0.106973  -0.086249  -0.323235   \n",
      "3641  -0.355396  -0.347212  -0.349849  -0.354153  -0.352253  -0.345504   \n",
      "3642  -0.355396  -0.347212  -0.349849  -0.354153  -0.352253  -0.345504   \n",
      "3643  -0.355396  -0.347212  -0.327119  -0.354153  -0.341112  -0.345504   \n",
      "\n",
      "      cals-0:00  \n",
      "0     -0.073821  \n",
      "1      3.537840  \n",
      "2      0.487719  \n",
      "3     -0.246392  \n",
      "4     -0.246392  \n",
      "...         ...  \n",
      "3639  -0.324460  \n",
      "3640  -0.176542  \n",
      "3641  -0.335417  \n",
      "3642  -0.335417  \n",
      "3643  -0.335417  \n",
      "\n",
      "[3644 rows x 145 columns]\n"
     ]
    }
   ],
   "source": [
    "print(df_test)  # Inspect the test dataframe"
   ]
  },
  {
   "cell_type": "code",
   "execution_count": 34,
   "metadata": {},
   "outputs": [
    {
     "name": "stdout",
     "output_type": "stream",
     "text": [
      "id\n",
      "bg-1:55\n",
      "bg-1:50\n",
      "bg-1:45\n",
      "bg-1:40\n",
      "bg-1:35\n",
      "bg-1:30\n",
      "bg-1:25\n",
      "bg-1:20\n",
      "bg-1:15\n",
      "bg-1:10\n",
      "bg-1:05\n",
      "bg-1:00\n",
      "bg-0:55\n",
      "bg-0:50\n",
      "bg-0:45\n",
      "bg-0:40\n",
      "bg-0:35\n",
      "bg-0:30\n",
      "bg-0:25\n",
      "bg-0:20\n",
      "bg-0:15\n",
      "bg-0:10\n",
      "bg-0:05\n",
      "bg-0:00\n",
      "insulin-1:55\n",
      "insulin-1:50\n",
      "insulin-1:45\n",
      "insulin-1:40\n",
      "insulin-1:35\n",
      "insulin-1:30\n",
      "insulin-1:25\n",
      "insulin-1:20\n",
      "insulin-1:15\n",
      "insulin-1:10\n",
      "insulin-1:05\n",
      "insulin-1:00\n",
      "insulin-0:55\n",
      "insulin-0:50\n",
      "insulin-0:45\n",
      "insulin-0:40\n",
      "insulin-0:35\n",
      "insulin-0:30\n",
      "insulin-0:25\n",
      "insulin-0:20\n",
      "insulin-0:15\n",
      "insulin-0:10\n",
      "insulin-0:05\n",
      "insulin-0:00\n",
      "carbs-1:55\n",
      "carbs-1:50\n",
      "carbs-1:45\n",
      "carbs-1:40\n",
      "carbs-1:35\n",
      "carbs-1:30\n",
      "carbs-1:25\n",
      "carbs-1:20\n",
      "carbs-1:15\n",
      "carbs-1:10\n",
      "carbs-1:05\n",
      "carbs-1:00\n",
      "carbs-0:55\n",
      "carbs-0:50\n",
      "carbs-0:45\n",
      "carbs-0:40\n",
      "carbs-0:35\n",
      "carbs-0:30\n",
      "carbs-0:25\n",
      "carbs-0:20\n",
      "carbs-0:15\n",
      "carbs-0:10\n",
      "carbs-0:05\n",
      "carbs-0:00\n",
      "hr-1:55\n",
      "hr-1:50\n",
      "hr-1:45\n",
      "hr-1:40\n",
      "hr-1:35\n",
      "hr-1:30\n",
      "hr-1:25\n",
      "hr-1:20\n",
      "hr-1:15\n",
      "hr-1:10\n",
      "hr-1:05\n",
      "hr-1:00\n",
      "hr-0:55\n",
      "hr-0:50\n",
      "hr-0:45\n",
      "hr-0:40\n",
      "hr-0:35\n",
      "hr-0:30\n",
      "hr-0:25\n",
      "hr-0:20\n",
      "hr-0:15\n",
      "hr-0:10\n",
      "hr-0:05\n",
      "hr-0:00\n",
      "steps-1:55\n",
      "steps-1:50\n",
      "steps-1:45\n",
      "steps-1:40\n",
      "steps-1:35\n",
      "steps-1:30\n",
      "steps-1:25\n",
      "steps-1:20\n",
      "steps-1:15\n",
      "steps-1:10\n",
      "steps-1:05\n",
      "steps-1:00\n",
      "steps-0:55\n",
      "steps-0:50\n",
      "steps-0:45\n",
      "steps-0:40\n",
      "steps-0:35\n",
      "steps-0:30\n",
      "steps-0:25\n",
      "steps-0:20\n",
      "steps-0:15\n",
      "steps-0:10\n",
      "steps-0:05\n",
      "steps-0:00\n",
      "cals-1:55\n",
      "cals-1:50\n",
      "cals-1:45\n",
      "cals-1:40\n",
      "cals-1:35\n",
      "cals-1:30\n",
      "cals-1:25\n",
      "cals-1:20\n",
      "cals-1:15\n",
      "cals-1:10\n",
      "cals-1:05\n",
      "cals-1:00\n",
      "cals-0:55\n",
      "cals-0:50\n",
      "cals-0:45\n",
      "cals-0:40\n",
      "cals-0:35\n",
      "cals-0:30\n",
      "cals-0:25\n",
      "cals-0:20\n",
      "cals-0:15\n",
      "cals-0:10\n",
      "cals-0:05\n",
      "cals-0:00\n"
     ]
    }
   ],
   "source": [
    "for col in df_test.columns:\n",
    "    print(col)  # Print column names to verify features"
   ]
  },
  {
   "cell_type": "code",
   "execution_count": 35,
   "metadata": {},
   "outputs": [],
   "source": [
    "meta_data = ['id']\n",
    "df_test_meta = df_test[meta_data]  # Extract meta information (ids) for submission\n",
    "df_test.drop(columns=meta_data, inplace=True)  # Remove meta columns from feature set"
   ]
  },
  {
   "cell_type": "code",
   "execution_count": 36,
   "metadata": {},
   "outputs": [],
   "source": [
    "# Create dataset and data loader for inference (no targets)\n",
    "infer_test_dataset = BrisT1DDataset(df_test, is_train=False)\n",
    "infer_test_loader = DataLoader(infer_test_dataset, batch_size=256, shuffle=False)"
   ]
  },
  {
   "cell_type": "code",
   "execution_count": 37,
   "metadata": {},
   "outputs": [
    {
     "name": "stderr",
     "output_type": "stream",
     "text": [
      "C:\\Users\\ASUS\\AppData\\Local\\Temp\\ipykernel_14188\\1545431745.py:1: FutureWarning: You are using `torch.load` with `weights_only=False` (the current default value), which uses the default pickle module implicitly. It is possible to construct malicious pickle data which will execute arbitrary code during unpickling (See https://github.com/pytorch/pytorch/blob/main/SECURITY.md#untrusted-models for more details). In a future release, the default value for `weights_only` will be flipped to `True`. This limits the functions that could be executed during unpickling. Arbitrary objects will no longer be allowed to be loaded via this mode unless they are explicitly allowlisted by the user via `torch.serialization.add_safe_globals`. We recommend you start setting `weights_only=True` for any use case where you don't have full control of the loaded file. Please open an issue on GitHub for any issues related to this experimental feature.\n",
      "  model.load_state_dict(torch.load('./.export/checkpoint-aug-tcn.pt'))  # Reload best model checkpoint\n"
     ]
    },
    {
     "data": {
      "text/plain": [
       "<All keys matched successfully>"
      ]
     },
     "execution_count": 37,
     "metadata": {},
     "output_type": "execute_result"
    }
   ],
   "source": [
    "model.load_state_dict(torch.load('./.export/checkpoint-aug-tcn.pt'))  # Reload best model checkpoint"
   ]
  },
  {
   "cell_type": "code",
   "execution_count": 38,
   "metadata": {},
   "outputs": [
    {
     "name": "stderr",
     "output_type": "stream",
     "text": [
      "Inference: 100%|██████████| 15/15 [00:00<00:00, 238.24it/s]\n"
     ]
    }
   ],
   "source": [
    "model.eval()\n",
    "\n",
    "all_preds = []\n",
    "with torch.no_grad():\n",
    "    for x_seq in tqdm(infer_test_loader, desc=\"Inference\"):\n",
    "        x_seq = x_seq.to(device)\n",
    "        outputs = model(x_seq)\n",
    "        all_preds.append(outputs.cpu().numpy())\n",
    "\n",
    "all_preds = np.concatenate(all_preds)  # Concatenate predictions from all batches"
   ]
  },
  {
   "cell_type": "code",
   "execution_count": 39,
   "metadata": {},
   "outputs": [],
   "source": [
    "target_scaler = joblib.load('./.data/target_scaler_aug.pkl')\n",
    "all_preds_original = target_scaler.inverse_transform(all_preds.reshape(-1, 1)).flatten()  # Convert predictions back to original scale"
   ]
  },
  {
   "cell_type": "code",
   "execution_count": 40,
   "metadata": {},
   "outputs": [],
   "source": [
    "# Calibrate test predictions using the calibration model\n",
    "calibrated_test_preds = calibration_model.predict(all_preds_original.reshape(-1, 1))\n",
    "all_preds_original = calibrated_test_preds"
   ]
  },
  {
   "cell_type": "code",
   "execution_count": 41,
   "metadata": {},
   "outputs": [],
   "source": [
    "# Prepare the submission file\n",
    "df_predictions = pd.DataFrame(all_preds_original, columns=[\"bg+1:00\"])\n",
    "df_results = pd.concat([df_test_meta.reset_index(drop=True), df_predictions], axis=1)\n",
    "df_results.to_csv(\"./.export/test_submission_aug_tcn.csv\", index=False)"
   ]
  },
  {
   "cell_type": "markdown",
   "metadata": {},
   "source": [
    "### Submission"
   ]
  },
  {
   "cell_type": "code",
   "execution_count": 42,
   "metadata": {},
   "outputs": [
    {
     "name": "stdout",
     "output_type": "stream",
     "text": [
      "Warning: Looks like you're using an outdated API Version, please consider updating (server 1.7.4.2 / client 1.6.17)\n",
      "Successfully submitted to BrisT1D Blood Glucose Prediction Competition\n"
     ]
    },
    {
     "name": "stderr",
     "output_type": "stream",
     "text": [
      "\n",
      "  0%|          | 0.00/67.9k [00:00<?, ?B/s]\n",
      "100%|██████████| 67.9k/67.9k [00:01<00:00, 67.6kB/s]\n"
     ]
    }
   ],
   "source": [
    "!kaggle competitions submit -c brist1d -f ./.export/test_submission_aug_tcn.csv -m \"BrisT1D Submission: TCN (Calibrated)\""
   ]
  },
  {
   "cell_type": "code",
   "execution_count": 43,
   "metadata": {},
   "outputs": [
    {
     "data": {
      "image/png": "[encoded data removed]",
      "text/plain": [
       "<IPython.core.display.Image object>"
      ]
     },
     "metadata": {},
     "output_type": "display_data"
    }
   ],
   "source": [
    "display(Image(filename='./.export/test_submission_aug_tcn.png'))  # Display the submission screenshot for confirmation"
   ]
  }
 ],
 "metadata": {
  "kernelspec": {
   "display_name": "ai",
   "language": "python",
   "name": "python3"
  },
  "language_info": {
   "codemirror_mode": {
    "name": "ipython",
    "version": 3
   },
   "file_extension": ".py",
   "mimetype": "text/x-python",
   "name": "python",
   "nbconvert_exporter": "python",
   "pygments_lexer": "ipython3",
   "version": "3.10.15"
  }
 },
 "nbformat": 4,
 "nbformat_minor": 2
}
